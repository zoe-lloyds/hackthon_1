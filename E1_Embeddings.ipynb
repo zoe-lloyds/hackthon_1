{
 "cells": [
  {
   "cell_type": "markdown",
   "id": "9dcb1bde-3ac1-42ba-ad90-bc93df01c0f8",
   "metadata": {},
   "source": [
    "# Embeddings\n",
    "\n",
    "## Semantic Search Using Embeddings from Google Gen AI Models\n",
    "\n",
    "Semantic search is a type of search that uses the meaning of words and phrases to find relevant results.\n",
    "\n",
    "In this tutorial, we will demonstrate how to do semantic search with embeddings generated from the news text and using [Google ScaNN: Efficient Vector Similarity Search](https://ai.googleblog.com/2020/07/announcing-scann-efficient-vector.html) to retrieve the most relevant news semantically.\n",
    "\n",
    "The embeddings are generated using the embedding model API provided by Google (based on Palm 2) and vector search is done using a local library. This pattern is most appropriate for experimentation.\n",
    "\n",
    "## Pre-requisites:\n",
    "- Vertex LLM SDK\n",
    "- ScaNN [github](https://github.com/google-research/google-research/tree/master/scann)"
   ]
  },
  {
   "cell_type": "markdown",
   "id": "fc3920ce-2421-4026-a142-db29cd968b83",
   "metadata": {},
   "source": [
    "## Install Vertex LLM SDK\n",
    "\n",
    "Install required libraries and initialises the Vertex AI SDK"
   ]
  },
  {
   "cell_type": "code",
   "execution_count": 3,
   "id": "484703ed-180e-4dfa-a59a-6845b36c809b",
   "metadata": {
    "collapsed": true,
    "jupyter": {
     "outputs_hidden": true
    },
    "tags": []
   },
   "outputs": [
    {
     "name": "stdout",
     "output_type": "stream",
     "text": [
      "Requirement already satisfied: google-cloud-aiplatform>=1.25 in /opt/conda/lib/python3.7/site-packages (1.33.1)\n",
      "Requirement already satisfied: shapely<2.0.0 in /opt/conda/lib/python3.7/site-packages (1.8.5.post1)\n",
      "Requirement already satisfied: google-api-core[grpc]!=2.0.*,!=2.1.*,!=2.2.*,!=2.3.*,!=2.4.*,!=2.5.*,!=2.6.*,!=2.7.*,<3.0.0dev,>=1.32.0 in /opt/conda/lib/python3.7/site-packages (from google-cloud-aiplatform>=1.25) (1.34.0)\n",
      "Requirement already satisfied: proto-plus<2.0.0dev,>=1.22.0 in /opt/conda/lib/python3.7/site-packages (from google-cloud-aiplatform>=1.25) (1.22.3)\n",
      "Requirement already satisfied: protobuf!=3.20.0,!=3.20.1,!=4.21.0,!=4.21.1,!=4.21.2,!=4.21.3,!=4.21.4,!=4.21.5,<5.0.0dev,>=3.19.5 in /opt/conda/lib/python3.7/site-packages (from google-cloud-aiplatform>=1.25) (3.19.6)\n",
      "Requirement already satisfied: packaging>=14.3 in /opt/conda/lib/python3.7/site-packages (from google-cloud-aiplatform>=1.25) (23.1)\n",
      "Requirement already satisfied: google-cloud-storage<3.0.0dev,>=1.32.0 in /opt/conda/lib/python3.7/site-packages (from google-cloud-aiplatform>=1.25) (2.11.0)\n",
      "Requirement already satisfied: google-cloud-bigquery<4.0.0dev,>=1.15.0 in /opt/conda/lib/python3.7/site-packages (from google-cloud-aiplatform>=1.25) (3.11.4)\n",
      "Requirement already satisfied: google-cloud-resource-manager<3.0.0dev,>=1.3.3 in /opt/conda/lib/python3.7/site-packages (from google-cloud-aiplatform>=1.25) (1.10.4)\n",
      "Requirement already satisfied: googleapis-common-protos<2.0dev,>=1.56.2 in /opt/conda/lib/python3.7/site-packages (from google-api-core[grpc]!=2.0.*,!=2.1.*,!=2.2.*,!=2.3.*,!=2.4.*,!=2.5.*,!=2.6.*,!=2.7.*,<3.0.0dev,>=1.32.0->google-cloud-aiplatform>=1.25) (1.56.4)\n",
      "Requirement already satisfied: google-auth<3.0dev,>=1.25.0 in /opt/conda/lib/python3.7/site-packages (from google-api-core[grpc]!=2.0.*,!=2.1.*,!=2.2.*,!=2.3.*,!=2.4.*,!=2.5.*,!=2.6.*,!=2.7.*,<3.0.0dev,>=1.32.0->google-cloud-aiplatform>=1.25) (2.23.0)\n",
      "Requirement already satisfied: requests<3.0.0dev,>=2.18.0 in /opt/conda/lib/python3.7/site-packages (from google-api-core[grpc]!=2.0.*,!=2.1.*,!=2.2.*,!=2.3.*,!=2.4.*,!=2.5.*,!=2.6.*,!=2.7.*,<3.0.0dev,>=1.32.0->google-cloud-aiplatform>=1.25) (2.31.0)\n",
      "Requirement already satisfied: grpcio<2.0dev,>=1.33.2 in /opt/conda/lib/python3.7/site-packages (from google-api-core[grpc]!=2.0.*,!=2.1.*,!=2.2.*,!=2.3.*,!=2.4.*,!=2.5.*,!=2.6.*,!=2.7.*,<3.0.0dev,>=1.32.0->google-cloud-aiplatform>=1.25) (1.48.1)\n",
      "Requirement already satisfied: grpcio-status<2.0dev,>=1.33.2 in /opt/conda/lib/python3.7/site-packages (from google-api-core[grpc]!=2.0.*,!=2.1.*,!=2.2.*,!=2.3.*,!=2.4.*,!=2.5.*,!=2.6.*,!=2.7.*,<3.0.0dev,>=1.32.0->google-cloud-aiplatform>=1.25) (1.48.1)\n",
      "Requirement already satisfied: google-cloud-core<3.0.0dev,>=1.6.0 in /opt/conda/lib/python3.7/site-packages (from google-cloud-bigquery<4.0.0dev,>=1.15.0->google-cloud-aiplatform>=1.25) (2.3.3)\n",
      "Requirement already satisfied: google-resumable-media<3.0dev,>=0.6.0 in /opt/conda/lib/python3.7/site-packages (from google-cloud-bigquery<4.0.0dev,>=1.15.0->google-cloud-aiplatform>=1.25) (2.6.0)\n",
      "Requirement already satisfied: python-dateutil<3.0dev,>=2.7.2 in /opt/conda/lib/python3.7/site-packages (from google-cloud-bigquery<4.0.0dev,>=1.15.0->google-cloud-aiplatform>=1.25) (2.8.2)\n",
      "Requirement already satisfied: grpc-google-iam-v1<1.0.0dev,>=0.12.4 in /opt/conda/lib/python3.7/site-packages (from google-cloud-resource-manager<3.0.0dev,>=1.3.3->google-cloud-aiplatform>=1.25) (0.12.6)\n",
      "Requirement already satisfied: cachetools<6.0,>=2.0.0 in /opt/conda/lib/python3.7/site-packages (from google-auth<3.0dev,>=1.25.0->google-api-core[grpc]!=2.0.*,!=2.1.*,!=2.2.*,!=2.3.*,!=2.4.*,!=2.5.*,!=2.6.*,!=2.7.*,<3.0.0dev,>=1.32.0->google-cloud-aiplatform>=1.25) (4.2.4)\n",
      "Requirement already satisfied: pyasn1-modules>=0.2.1 in /opt/conda/lib/python3.7/site-packages (from google-auth<3.0dev,>=1.25.0->google-api-core[grpc]!=2.0.*,!=2.1.*,!=2.2.*,!=2.3.*,!=2.4.*,!=2.5.*,!=2.6.*,!=2.7.*,<3.0.0dev,>=1.32.0->google-cloud-aiplatform>=1.25) (0.3.0)\n",
      "Requirement already satisfied: rsa<5,>=3.1.4 in /opt/conda/lib/python3.7/site-packages (from google-auth<3.0dev,>=1.25.0->google-api-core[grpc]!=2.0.*,!=2.1.*,!=2.2.*,!=2.3.*,!=2.4.*,!=2.5.*,!=2.6.*,!=2.7.*,<3.0.0dev,>=1.32.0->google-cloud-aiplatform>=1.25) (4.9)\n",
      "Requirement already satisfied: urllib3<2.0 in /opt/conda/lib/python3.7/site-packages (from google-auth<3.0dev,>=1.25.0->google-api-core[grpc]!=2.0.*,!=2.1.*,!=2.2.*,!=2.3.*,!=2.4.*,!=2.5.*,!=2.6.*,!=2.7.*,<3.0.0dev,>=1.32.0->google-cloud-aiplatform>=1.25) (1.26.16)\n",
      "Requirement already satisfied: google-crc32c<2.0dev,>=1.0 in /opt/conda/lib/python3.7/site-packages (from google-resumable-media<3.0dev,>=0.6.0->google-cloud-bigquery<4.0.0dev,>=1.15.0->google-cloud-aiplatform>=1.25) (1.5.0)\n",
      "Requirement already satisfied: six>=1.5.2 in /opt/conda/lib/python3.7/site-packages (from grpcio<2.0dev,>=1.33.2->google-api-core[grpc]!=2.0.*,!=2.1.*,!=2.2.*,!=2.3.*,!=2.4.*,!=2.5.*,!=2.6.*,!=2.7.*,<3.0.0dev,>=1.32.0->google-cloud-aiplatform>=1.25) (1.16.0)\n",
      "Requirement already satisfied: charset-normalizer<4,>=2 in /opt/conda/lib/python3.7/site-packages (from requests<3.0.0dev,>=2.18.0->google-api-core[grpc]!=2.0.*,!=2.1.*,!=2.2.*,!=2.3.*,!=2.4.*,!=2.5.*,!=2.6.*,!=2.7.*,<3.0.0dev,>=1.32.0->google-cloud-aiplatform>=1.25) (2.1.1)\n",
      "Requirement already satisfied: idna<4,>=2.5 in /opt/conda/lib/python3.7/site-packages (from requests<3.0.0dev,>=2.18.0->google-api-core[grpc]!=2.0.*,!=2.1.*,!=2.2.*,!=2.3.*,!=2.4.*,!=2.5.*,!=2.6.*,!=2.7.*,<3.0.0dev,>=1.32.0->google-cloud-aiplatform>=1.25) (3.4)\n",
      "Requirement already satisfied: certifi>=2017.4.17 in /opt/conda/lib/python3.7/site-packages (from requests<3.0.0dev,>=2.18.0->google-api-core[grpc]!=2.0.*,!=2.1.*,!=2.2.*,!=2.3.*,!=2.4.*,!=2.5.*,!=2.6.*,!=2.7.*,<3.0.0dev,>=1.32.0->google-cloud-aiplatform>=1.25) (2023.7.22)\n",
      "Requirement already satisfied: pyasn1<0.6.0,>=0.4.6 in /opt/conda/lib/python3.7/site-packages (from pyasn1-modules>=0.2.1->google-auth<3.0dev,>=1.25.0->google-api-core[grpc]!=2.0.*,!=2.1.*,!=2.2.*,!=2.3.*,!=2.4.*,!=2.5.*,!=2.6.*,!=2.7.*,<3.0.0dev,>=1.32.0->google-cloud-aiplatform>=1.25) (0.5.0)\n",
      "Requirement already satisfied: scann in /opt/conda/lib/python3.7/site-packages (1.2.9)\n",
      "Requirement already satisfied: tensorflow~=2.11.0 in /opt/conda/lib/python3.7/site-packages (from scann) (2.11.0)\n",
      "Requirement already satisfied: numpy in /opt/conda/lib/python3.7/site-packages (from scann) (1.21.6)\n",
      "Requirement already satisfied: six in /opt/conda/lib/python3.7/site-packages (from scann) (1.16.0)\n",
      "Requirement already satisfied: absl-py>=1.0.0 in /opt/conda/lib/python3.7/site-packages (from tensorflow~=2.11.0->scann) (1.4.0)\n",
      "Requirement already satisfied: astunparse>=1.6.0 in /opt/conda/lib/python3.7/site-packages (from tensorflow~=2.11.0->scann) (1.6.3)\n",
      "Requirement already satisfied: flatbuffers>=2.0 in /opt/conda/lib/python3.7/site-packages (from tensorflow~=2.11.0->scann) (23.5.26)\n",
      "Requirement already satisfied: gast<=0.4.0,>=0.2.1 in /opt/conda/lib/python3.7/site-packages (from tensorflow~=2.11.0->scann) (0.4.0)\n",
      "Requirement already satisfied: google-pasta>=0.1.1 in /opt/conda/lib/python3.7/site-packages (from tensorflow~=2.11.0->scann) (0.2.0)\n",
      "Requirement already satisfied: grpcio<2.0,>=1.24.3 in /opt/conda/lib/python3.7/site-packages (from tensorflow~=2.11.0->scann) (1.48.1)\n",
      "Requirement already satisfied: h5py>=2.9.0 in /opt/conda/lib/python3.7/site-packages (from tensorflow~=2.11.0->scann) (3.8.0)\n",
      "Requirement already satisfied: keras<2.12,>=2.11.0 in /opt/conda/lib/python3.7/site-packages (from tensorflow~=2.11.0->scann) (2.11.0)\n",
      "Requirement already satisfied: libclang>=13.0.0 in /opt/conda/lib/python3.7/site-packages (from tensorflow~=2.11.0->scann) (16.0.6)\n",
      "Requirement already satisfied: opt-einsum>=2.3.2 in /opt/conda/lib/python3.7/site-packages (from tensorflow~=2.11.0->scann) (3.3.0)\n",
      "Requirement already satisfied: packaging in /opt/conda/lib/python3.7/site-packages (from tensorflow~=2.11.0->scann) (23.1)\n",
      "Requirement already satisfied: protobuf<3.20,>=3.9.2 in /opt/conda/lib/python3.7/site-packages (from tensorflow~=2.11.0->scann) (3.19.6)\n",
      "Requirement already satisfied: setuptools in /opt/conda/lib/python3.7/site-packages (from tensorflow~=2.11.0->scann) (68.2.2)\n",
      "Requirement already satisfied: tensorboard<2.12,>=2.11 in /opt/conda/lib/python3.7/site-packages (from tensorflow~=2.11.0->scann) (2.11.2)\n",
      "Requirement already satisfied: tensorflow-estimator<2.12,>=2.11.0 in /opt/conda/lib/python3.7/site-packages (from tensorflow~=2.11.0->scann) (2.11.0)\n",
      "Requirement already satisfied: termcolor>=1.1.0 in /opt/conda/lib/python3.7/site-packages (from tensorflow~=2.11.0->scann) (2.3.0)\n",
      "Requirement already satisfied: typing-extensions>=3.6.6 in /opt/conda/lib/python3.7/site-packages (from tensorflow~=2.11.0->scann) (4.7.1)\n",
      "Requirement already satisfied: wrapt>=1.11.0 in /opt/conda/lib/python3.7/site-packages (from tensorflow~=2.11.0->scann) (1.15.0)\n",
      "Requirement already satisfied: tensorflow-io-gcs-filesystem>=0.23.1 in /opt/conda/lib/python3.7/site-packages (from tensorflow~=2.11.0->scann) (0.29.0)\n",
      "Requirement already satisfied: wheel<1.0,>=0.23.0 in /opt/conda/lib/python3.7/site-packages (from astunparse>=1.6.0->tensorflow~=2.11.0->scann) (0.41.2)\n",
      "Requirement already satisfied: google-auth<3,>=1.6.3 in /opt/conda/lib/python3.7/site-packages (from tensorboard<2.12,>=2.11->tensorflow~=2.11.0->scann) (2.23.0)\n",
      "Requirement already satisfied: google-auth-oauthlib<0.5,>=0.4.1 in /opt/conda/lib/python3.7/site-packages (from tensorboard<2.12,>=2.11->tensorflow~=2.11.0->scann) (0.4.6)\n",
      "Requirement already satisfied: markdown>=2.6.8 in /opt/conda/lib/python3.7/site-packages (from tensorboard<2.12,>=2.11->tensorflow~=2.11.0->scann) (3.4.4)\n",
      "Requirement already satisfied: requests<3,>=2.21.0 in /opt/conda/lib/python3.7/site-packages (from tensorboard<2.12,>=2.11->tensorflow~=2.11.0->scann) (2.31.0)\n",
      "Requirement already satisfied: tensorboard-data-server<0.7.0,>=0.6.0 in /opt/conda/lib/python3.7/site-packages (from tensorboard<2.12,>=2.11->tensorflow~=2.11.0->scann) (0.6.1)\n",
      "Requirement already satisfied: tensorboard-plugin-wit>=1.6.0 in /opt/conda/lib/python3.7/site-packages (from tensorboard<2.12,>=2.11->tensorflow~=2.11.0->scann) (1.8.1)\n",
      "Requirement already satisfied: werkzeug>=1.0.1 in /opt/conda/lib/python3.7/site-packages (from tensorboard<2.12,>=2.11->tensorflow~=2.11.0->scann) (2.1.2)\n",
      "Requirement already satisfied: cachetools<6.0,>=2.0.0 in /opt/conda/lib/python3.7/site-packages (from google-auth<3,>=1.6.3->tensorboard<2.12,>=2.11->tensorflow~=2.11.0->scann) (4.2.4)\n",
      "Requirement already satisfied: pyasn1-modules>=0.2.1 in /opt/conda/lib/python3.7/site-packages (from google-auth<3,>=1.6.3->tensorboard<2.12,>=2.11->tensorflow~=2.11.0->scann) (0.3.0)\n",
      "Requirement already satisfied: rsa<5,>=3.1.4 in /opt/conda/lib/python3.7/site-packages (from google-auth<3,>=1.6.3->tensorboard<2.12,>=2.11->tensorflow~=2.11.0->scann) (4.9)\n",
      "Requirement already satisfied: urllib3<2.0 in /opt/conda/lib/python3.7/site-packages (from google-auth<3,>=1.6.3->tensorboard<2.12,>=2.11->tensorflow~=2.11.0->scann) (1.26.16)\n",
      "Requirement already satisfied: requests-oauthlib>=0.7.0 in /opt/conda/lib/python3.7/site-packages (from google-auth-oauthlib<0.5,>=0.4.1->tensorboard<2.12,>=2.11->tensorflow~=2.11.0->scann) (1.3.1)\n",
      "Requirement already satisfied: importlib-metadata>=4.4 in /opt/conda/lib/python3.7/site-packages (from markdown>=2.6.8->tensorboard<2.12,>=2.11->tensorflow~=2.11.0->scann) (4.11.4)\n",
      "Requirement already satisfied: charset-normalizer<4,>=2 in /opt/conda/lib/python3.7/site-packages (from requests<3,>=2.21.0->tensorboard<2.12,>=2.11->tensorflow~=2.11.0->scann) (2.1.1)\n",
      "Requirement already satisfied: idna<4,>=2.5 in /opt/conda/lib/python3.7/site-packages (from requests<3,>=2.21.0->tensorboard<2.12,>=2.11->tensorflow~=2.11.0->scann) (3.4)\n",
      "Requirement already satisfied: certifi>=2017.4.17 in /opt/conda/lib/python3.7/site-packages (from requests<3,>=2.21.0->tensorboard<2.12,>=2.11->tensorflow~=2.11.0->scann) (2023.7.22)\n",
      "Requirement already satisfied: zipp>=0.5 in /opt/conda/lib/python3.7/site-packages (from importlib-metadata>=4.4->markdown>=2.6.8->tensorboard<2.12,>=2.11->tensorflow~=2.11.0->scann) (3.15.0)\n",
      "Requirement already satisfied: pyasn1<0.6.0,>=0.4.6 in /opt/conda/lib/python3.7/site-packages (from pyasn1-modules>=0.2.1->google-auth<3,>=1.6.3->tensorboard<2.12,>=2.11->tensorflow~=2.11.0->scann) (0.5.0)\n",
      "Requirement already satisfied: oauthlib>=3.0.0 in /opt/conda/lib/python3.7/site-packages (from requests-oauthlib>=0.7.0->google-auth-oauthlib<0.5,>=0.4.1->tensorboard<2.12,>=2.11->tensorflow~=2.11.0->scann) (3.2.2)\n"
     ]
    }
   ],
   "source": [
    "# Install Required Libraries\n",
    "!pip3 install \"google-cloud-aiplatform>=1.25\" \"shapely<2.0.0\"\n",
    "!pip install scann"
   ]
  },
  {
   "cell_type": "code",
   "execution_count": 4,
   "id": "cb177979-b284-456a-ba78-6a8c3e3870bd",
   "metadata": {},
   "outputs": [],
   "source": [
    "# Import Vertex AI SDK\n",
    "PROJECT_ID = !gcloud config get project\n",
    "PROJECT_ID = PROJECT_ID.n\n",
    "LOCATION = \"europe-west2\" \n",
    "\n",
    "import vertexai\n",
    "\n",
    "vertexai.init(project=PROJECT_ID, location=LOCATION)"
   ]
  },
  {
   "cell_type": "markdown",
   "id": "dec92d49-de0b-47c4-9071-aa74c2d8c062",
   "metadata": {},
   "source": [
    "## Import TextEmbeddingModel\n",
    "\n",
    "Available models as of Sep 2023\n",
    "| Models | Description\n",
    "| :- | :- |\n",
    "| textembedding-gecko@001 | stable |\n",
    "| textembedding-gecko@latest | public preview: an embeddings model with enhanced AI quality |\n",
    "| textembedding-gecko-multilingual@latest | public preview: an embeddings model designed to use a wide range of non-English languages. |\n",
    "\n",
    "\n",
    "Further documentation on available models can be found here: https://cloud.google.com/vertex-ai/docs/generative-ai/embeddings/get-text-embeddings#generative-ai-get-text-embedding-python"
   ]
  },
  {
   "cell_type": "code",
   "execution_count": 5,
   "id": "bcb9c36d-f0a3-47d2-9ed5-bc99fad4c23c",
   "metadata": {},
   "outputs": [],
   "source": [
    "from vertexai.preview.language_models import TextEmbeddingModel\n",
    "\n",
    "model = TextEmbeddingModel.from_pretrained(\"textembedding-gecko@001\")"
   ]
  },
  {
   "cell_type": "markdown",
   "id": "6b997769-ceaf-4837-afe6-fffae3e4d8ab",
   "metadata": {},
   "source": [
    "## Import Required Packages\n",
    "\n",
    "Outputs regarding Tensorflow can be ignored as this is due to this notebook being CPU only. A GPU is not required for this demonstration.\n"
   ]
  },
  {
   "cell_type": "code",
   "execution_count": 6,
   "id": "51e7ebba-ad16-43db-a36d-30cecd8d1316",
   "metadata": {},
   "outputs": [],
   "source": [
    "import json\n",
    "import time\n",
    "\n",
    "import numpy as np\n",
    "import pandas as pd\n",
    "import scann"
   ]
  },
  {
   "cell_type": "markdown",
   "id": "47573a7f-5af5-4163-af8f-4a7462ed14a1",
   "metadata": {},
   "source": [
    "## Create Embedding Dataset\n",
    "\n",
    "The dataset is solely to demonstrate the use of the Text Embedding API with a vector database. It is not intended to be used for any other purpose, such as evaluating models. The dataset is small and does not represent a comprehensive sample of all possible text.\n",
    "\n",
    "The following command copies the data json file from a Google Storage bucket. The data is stored locally within the notebook for use. "
   ]
  },
  {
   "cell_type": "code",
   "execution_count": 7,
   "id": "ec12607e-a969-44a9-a486-db32303dfa09",
   "metadata": {},
   "outputs": [
    {
     "name": "stdout",
     "output_type": "stream",
     "text": [
      "Copying gs://gen-ai-playpen-b57463-bucket/embeddings/data/google_embeddings_dataset.jsonl...\n",
      "/ [1 files][ 14.1 KiB/ 14.1 KiB]                                                \n",
      "Operation completed over 1 objects/14.1 KiB.                                     \n"
     ]
    }
   ],
   "source": [
    "!mkdir -p datasets\n",
    "!gsutil cp gs://gen-ai-{PROJECT_ID}-bucket/embeddings/data/google_embeddings_dataset.jsonl ./datasets"
   ]
  },
  {
   "cell_type": "markdown",
   "id": "b676dbc8-7865-41dc-b45f-c5c75cff1f4f",
   "metadata": {},
   "source": [
    "### Load data.json as a Python list"
   ]
  },
  {
   "cell_type": "code",
   "execution_count": 8,
   "id": "d229a49b-8cd3-4e77-a34e-abb269a2f8a8",
   "metadata": {},
   "outputs": [],
   "source": [
    "records = []\n",
    "with open(\"./datasets/google_embeddings_dataset.jsonl\") as f:\n",
    "    for line in f:\n",
    "        record = json.loads(line)\n",
    "        records.append(record)"
   ]
  },
  {
   "cell_type": "markdown",
   "id": "f1c2781e-3d95-44b4-9745-63366fcef6b6",
   "metadata": {},
   "source": [
    "### Peek at the data"
   ]
  },
  {
   "cell_type": "code",
   "execution_count": 8,
   "id": "abcd3dbc-cece-4b58-8aa7-c599024acf56",
   "metadata": {},
   "outputs": [
    {
     "data": {
      "text/html": [
       "<div>\n",
       "<style scoped>\n",
       "    .dataframe tbody tr th:only-of-type {\n",
       "        vertical-align: middle;\n",
       "    }\n",
       "\n",
       "    .dataframe tbody tr th {\n",
       "        vertical-align: top;\n",
       "    }\n",
       "\n",
       "    .dataframe thead th {\n",
       "        text-align: right;\n",
       "    }\n",
       "</style>\n",
       "<table border=\"1\" class=\"dataframe\">\n",
       "  <thead>\n",
       "    <tr style=\"text-align: right;\">\n",
       "      <th></th>\n",
       "      <th>file_name</th>\n",
       "      <th>text</th>\n",
       "    </tr>\n",
       "  </thead>\n",
       "  <tbody>\n",
       "    <tr>\n",
       "      <th>0</th>\n",
       "      <td>whats-new-in-online-for-business.txt</td>\n",
       "      <td>\\nNo\\n</td>\n",
       "    </tr>\n",
       "    <tr>\n",
       "      <th>1</th>\n",
       "      <td>activate-cbo.txt</td>\n",
       "      <td>Activate your Commercial Banking Online accoun...</td>\n",
       "    </tr>\n",
       "    <tr>\n",
       "      <th>2</th>\n",
       "      <td>getting-started-with-the-business-mobile-app.txt</td>\n",
       "      <td>Getting started with the Business Mobile Banki...</td>\n",
       "    </tr>\n",
       "    <tr>\n",
       "      <th>3</th>\n",
       "      <td>account-management.txt</td>\n",
       "      <td>Account ManagementAccess &amp; permissionsAdd or r...</td>\n",
       "    </tr>\n",
       "    <tr>\n",
       "      <th>4</th>\n",
       "      <td>confirmation-of-payee.txt</td>\n",
       "      <td>Make payments with confidenceConfirmation of P...</td>\n",
       "    </tr>\n",
       "  </tbody>\n",
       "</table>\n",
       "</div>"
      ],
      "text/plain": [
       "                                          file_name  \\\n",
       "0              whats-new-in-online-for-business.txt   \n",
       "1                                  activate-cbo.txt   \n",
       "2  getting-started-with-the-business-mobile-app.txt   \n",
       "3                            account-management.txt   \n",
       "4                         confirmation-of-payee.txt   \n",
       "\n",
       "                                                text  \n",
       "0                                             \\nNo\\n  \n",
       "1  Activate your Commercial Banking Online accoun...  \n",
       "2  Getting started with the Business Mobile Banki...  \n",
       "3  Account ManagementAccess & permissionsAdd or r...  \n",
       "4  Make payments with confidenceConfirmation of P...  "
      ]
     },
     "execution_count": 8,
     "metadata": {},
     "output_type": "execute_result"
    }
   ],
   "source": [
    "df = pd.read_csv('text_data.csv')\n",
    "df.head(5)"
   ]
  },
  {
   "cell_type": "markdown",
   "id": "dd147c2f-6653-48c2-ad64-df8255b2aba0",
   "metadata": {},
   "source": [
    "### Get embeddings from the Google Embedding Model\n",
    "\n",
    "The following code sends a request to the embedding model API to get the embedding vector for each entry in the dataset and stores it in a Python DataFrame."
   ]
  },
  {
   "cell_type": "code",
   "execution_count": null,
   "id": "4f732506-1c2a-4117-a9b6-132e49ecc601",
   "metadata": {},
   "outputs": [],
   "source": [
    "def get_embedding(text):\n",
    "    get_embedding.counter += 1\n",
    "    #try:\n",
    "    if get_embedding.counter % 100 == 0:\n",
    "        time.sleep(3)\n",
    "    return model.get_embeddings([text])[0].values #Send request to embedding model\n",
    "    #except:\n",
    "     #   return []\n",
    "\n",
    "\n",
    "get_embedding.counter = 0\n",
    "\n",
    "# This may take several minutes to complete.\n",
    "df[\"embedding\"] = df[\"text\"].apply(lambda x: get_embedding(x))"
   ]
  },
  {
   "cell_type": "code",
   "execution_count": null,
   "id": "f66e604e-8f70-4a29-8b96-b3bc77e0573a",
   "metadata": {},
   "outputs": [],
   "source": [
    "df.head()"
   ]
  },
  {
   "cell_type": "code",
   "execution_count": null,
   "id": "b39ec8e8-3da6-4701-9059-995332338b54",
   "metadata": {},
   "outputs": [],
   "source": [
    "# Convert the embeddings into a Python list \n",
    "embeddings_list = df['embedding'].values.tolist()\n",
    "with open(\"./datasets/vector_search_dataset.json\", \"w\") as f:\n",
    "    for i in range(len(embeddings_list)):\n",
    "        f.write('{\"id\":\"' + str(i) + '\",')\n",
    "        f.write('\"embedding\":[' + \",\".join(str(x) for x in embeddings_list[i]) + \"]}\")\n",
    "        f.write(\"\\n\")"
   ]
  },
  {
   "cell_type": "markdown",
   "id": "5a366c3b-5450-4bdc-bcd2-7e815778fc15",
   "metadata": {},
   "source": [
    "## Create an Index\n",
    "\n",
    "Further documentation on SCANN: https://github.com/google-research/google-research/tree/master/scann"
   ]
  },
  {
   "cell_type": "code",
   "execution_count": 42,
   "id": "6be852a2-84fa-48b2-9f7f-17eb62710826",
   "metadata": {},
   "outputs": [
    {
     "name": "stderr",
     "output_type": "stream",
     "text": [
      "2023-11-30 17:19:19.194929: I scann/partitioning/partitioner_factory_base.cc:59] Size of sampled dataset for training partition: 48\n",
      "2023-11-30 17:19:19.200076: I ./scann/partitioning/kmeans_tree_partitioner_utils.h:88] PartitionerFactory ran in 5.035017ms.\n"
     ]
    }
   ],
   "source": [
    "record_count = len(records)\n",
    "dataset = np.empty((record_count, 768))\n",
    "for i in range(record_count):\n",
    "    dataset[i] = df.embedding[i]\n",
    "\n",
    "normalized_dataset = dataset / np.linalg.norm(dataset, axis=1)[:, np.newaxis]\n",
    "# configure ScaNN as a tree - asymmetric hash hybrid with reordering\n",
    "# anisotropic quantization as described in the paper; see README\n",
    "\n",
    "# use scann.scann_ops.build() to instead create a TensorFlow-compatible searcher\n",
    "searcher = (\n",
    "    scann.scann_ops_pybind.builder(normalized_dataset, 10, \"dot_product\")\n",
    "    .tree(\n",
    "        num_leaves=record_count,\n",
    "        num_leaves_to_search=record_count,\n",
    "        training_sample_size=record_count,\n",
    "    )\n",
    "    .score_ah(2, anisotropic_quantization_threshold=0.2)\n",
    "    .reorder(100)\n",
    "    .build()\n",
    ")"
   ]
  },
  {
   "cell_type": "markdown",
   "id": "8e2f94c4-951d-470f-837f-5ce289cf9966",
   "metadata": {},
   "source": [
    "## Query Function"
   ]
  },
  {
   "cell_type": "code",
   "execution_count": 45,
   "id": "15814989-acce-49a0-ace4-22b0c9dd0971",
   "metadata": {},
   "outputs": [],
   "source": [
    "def search(query):\n",
    "    start = time.time()\n",
    "    query = model.get_embeddings([query])[0].values\n",
    "    neighbors, distances = searcher.search(query, final_num_neighbors=3)\n",
    "    end = time.time()\n",
    "\n",
    "    for id, dist in zip(neighbors, distances):\n",
    "        print(f\"[docid:{id}] [{dist}] -- {df.text[int(id)][:125]}...\")\n",
    "    print(\"Latency (ms):\", 1000 * (end - start))"
   ]
  },
  {
   "cell_type": "markdown",
   "id": "18411d4f-92d6-4193-aedf-00d9ae2c3959",
   "metadata": {},
   "source": [
    "## Query Index"
   ]
  },
  {
   "cell_type": "code",
   "execution_count": 48,
   "id": "634601a6-3caf-451e-ba68-fe1b0fe0fc14",
   "metadata": {},
   "outputs": [
    {
     "name": "stdout",
     "output_type": "stream",
     "text": [
      "[docid:17] [0.7976396679878235] -- Find out more about online bankingOnline for BusinessOnline for Business is our Internet Banking service that lets you take c...\n",
      "[docid:19] [0.7541975378990173] -- How to log in and out of Commercial Banking Online.You can only log in to Commercial Banking Online if your account has been ...\n",
      "[docid:20] [0.7353847026824951] -- Register for Commercial Banking OnlineCommercial Banking Online:helps you manage your business online.gives you access to bot...\n",
      "Latency (ms): 488.70158195495605\n"
     ]
    }
   ],
   "source": [
    "search(\"tell me about online banking\")"
   ]
  },
  {
   "cell_type": "code",
   "execution_count": 47,
   "id": "1c33f7f2-7206-474a-a98b-261afe086c1c",
   "metadata": {},
   "outputs": [
    {
     "name": "stdout",
     "output_type": "stream",
     "text": [
      "[docid:25] [0.6011409759521484] -- Log on to Online for Business – Memorable InformationLog on securely using three characters from your memorable information, ...\n",
      "[docid:18] [0.5863494873046875] -- Claim a Direct Debit refundYou might be able to claim a refund for a Direct Debit you haven’t authorised.You might be able to...\n",
      "[docid:16] [0.5744001865386963] -- Make a complaintWe’re committed to providing products and services of the very highest quality. If we haven't lived up to you...\n",
      "Latency (ms): 560.3361129760742\n"
     ]
    }
   ],
   "source": [
    "search(\"tell me about an important moment or event in your life\")"
   ]
  },
  {
   "cell_type": "code",
   "execution_count": null,
   "id": "df2495ca-1183-4638-bbe6-1923030fba41",
   "metadata": {},
   "outputs": [],
   "source": []
  }
 ],
 "metadata": {
  "environment": {
   "kernel": "python3",
   "name": "tf2-cpu.2-11.m112",
   "type": "gcloud",
   "uri": "gcr.io/deeplearning-platform-release/tf2-cpu.2-11:m112"
  },
  "kernelspec": {
   "display_name": "Python 3",
   "language": "python",
   "name": "python3"
  },
  "language_info": {
   "codemirror_mode": {
    "name": "ipython",
    "version": 3
   },
   "file_extension": ".py",
   "mimetype": "text/x-python",
   "name": "python",
   "nbconvert_exporter": "python",
   "pygments_lexer": "ipython3",
   "version": "3.7.12"
  }
 },
 "nbformat": 4,
 "nbformat_minor": 5
}
