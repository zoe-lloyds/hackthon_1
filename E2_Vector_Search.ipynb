{
 "cells": [
  {
   "cell_type": "markdown",
   "id": "9dcb1bde-3ac1-42ba-ad90-bc93df01c0f8",
   "metadata": {},
   "source": [
    "# Embeddings - Vertex AI Vector Search\n",
    "\n",
    "### Semantic Search Using Embeddings and Vertex AI Vector Search (Formerly Matching Engine)\n",
    "\n",
    "- Semantic search is a type of search that uses the meaning of words and phrases to find relevant results.\n",
    "- In this tutorial, we will demonstrate how to do semantic search with embeddings generated from the news text using vector search`\n",
    "- Vertex AI Vector Search (formerly known as Matching Engine) is a vector database, which can find the most similar vectors from over a billion vectors. Matching Engine's ANN service can serve similarity-matching queries at high queries per second (QPS).\n",
    "\n",
    "This pattern is more appropriate for larger datasets and production deployments. For demonstrating the full workflow and explanation, a small dataset is pre-processed locally and uploaded to a storage bucket in this example. In a larger or production deployment, the embedding generation and storage can be done separately and Vector Search provides db update strategies as described later in this notebook."
   ]
  },
  {
   "cell_type": "markdown",
   "id": "fc3920ce-2421-4026-a142-db29cd968b83",
   "metadata": {},
   "source": [
    "## Install Vertex LLM SDK\n",
    "\n",
    "Install required libraries and initialises the Vertex AI SDK"
   ]
  },
  {
   "cell_type": "code",
   "execution_count": 4,
   "id": "484703ed-180e-4dfa-a59a-6845b36c809b",
   "metadata": {},
   "outputs": [
    {
     "name": "stdout",
     "output_type": "stream",
     "text": [
      "Requirement already satisfied: google-cloud-aiplatform>=1.25 in /opt/conda/lib/python3.7/site-packages (1.33.1)\n",
      "Requirement already satisfied: shapely<2.0.0 in /opt/conda/lib/python3.7/site-packages (1.8.5.post1)\n",
      "Requirement already satisfied: google-api-core[grpc]!=2.0.*,!=2.1.*,!=2.2.*,!=2.3.*,!=2.4.*,!=2.5.*,!=2.6.*,!=2.7.*,<3.0.0dev,>=1.32.0 in /opt/conda/lib/python3.7/site-packages (from google-cloud-aiplatform>=1.25) (1.34.0)\n",
      "Requirement already satisfied: proto-plus<2.0.0dev,>=1.22.0 in /opt/conda/lib/python3.7/site-packages (from google-cloud-aiplatform>=1.25) (1.22.3)\n",
      "Requirement already satisfied: protobuf!=3.20.0,!=3.20.1,!=4.21.0,!=4.21.1,!=4.21.2,!=4.21.3,!=4.21.4,!=4.21.5,<5.0.0dev,>=3.19.5 in /opt/conda/lib/python3.7/site-packages (from google-cloud-aiplatform>=1.25) (3.19.6)\n",
      "Requirement already satisfied: packaging>=14.3 in /opt/conda/lib/python3.7/site-packages (from google-cloud-aiplatform>=1.25) (23.1)\n",
      "Requirement already satisfied: google-cloud-storage<3.0.0dev,>=1.32.0 in /opt/conda/lib/python3.7/site-packages (from google-cloud-aiplatform>=1.25) (2.11.0)\n",
      "Requirement already satisfied: google-cloud-bigquery<4.0.0dev,>=1.15.0 in /opt/conda/lib/python3.7/site-packages (from google-cloud-aiplatform>=1.25) (3.11.4)\n",
      "Requirement already satisfied: google-cloud-resource-manager<3.0.0dev,>=1.3.3 in /opt/conda/lib/python3.7/site-packages (from google-cloud-aiplatform>=1.25) (1.10.4)\n",
      "Requirement already satisfied: googleapis-common-protos<2.0dev,>=1.56.2 in /opt/conda/lib/python3.7/site-packages (from google-api-core[grpc]!=2.0.*,!=2.1.*,!=2.2.*,!=2.3.*,!=2.4.*,!=2.5.*,!=2.6.*,!=2.7.*,<3.0.0dev,>=1.32.0->google-cloud-aiplatform>=1.25) (1.56.4)\n",
      "Requirement already satisfied: google-auth<3.0dev,>=1.25.0 in /opt/conda/lib/python3.7/site-packages (from google-api-core[grpc]!=2.0.*,!=2.1.*,!=2.2.*,!=2.3.*,!=2.4.*,!=2.5.*,!=2.6.*,!=2.7.*,<3.0.0dev,>=1.32.0->google-cloud-aiplatform>=1.25) (2.23.0)\n",
      "Requirement already satisfied: requests<3.0.0dev,>=2.18.0 in /opt/conda/lib/python3.7/site-packages (from google-api-core[grpc]!=2.0.*,!=2.1.*,!=2.2.*,!=2.3.*,!=2.4.*,!=2.5.*,!=2.6.*,!=2.7.*,<3.0.0dev,>=1.32.0->google-cloud-aiplatform>=1.25) (2.31.0)\n",
      "Requirement already satisfied: grpcio<2.0dev,>=1.33.2 in /opt/conda/lib/python3.7/site-packages (from google-api-core[grpc]!=2.0.*,!=2.1.*,!=2.2.*,!=2.3.*,!=2.4.*,!=2.5.*,!=2.6.*,!=2.7.*,<3.0.0dev,>=1.32.0->google-cloud-aiplatform>=1.25) (1.48.1)\n",
      "Requirement already satisfied: grpcio-status<2.0dev,>=1.33.2 in /opt/conda/lib/python3.7/site-packages (from google-api-core[grpc]!=2.0.*,!=2.1.*,!=2.2.*,!=2.3.*,!=2.4.*,!=2.5.*,!=2.6.*,!=2.7.*,<3.0.0dev,>=1.32.0->google-cloud-aiplatform>=1.25) (1.48.1)\n",
      "Requirement already satisfied: google-cloud-core<3.0.0dev,>=1.6.0 in /opt/conda/lib/python3.7/site-packages (from google-cloud-bigquery<4.0.0dev,>=1.15.0->google-cloud-aiplatform>=1.25) (2.3.3)\n",
      "Requirement already satisfied: google-resumable-media<3.0dev,>=0.6.0 in /opt/conda/lib/python3.7/site-packages (from google-cloud-bigquery<4.0.0dev,>=1.15.0->google-cloud-aiplatform>=1.25) (2.6.0)\n",
      "Requirement already satisfied: python-dateutil<3.0dev,>=2.7.2 in /opt/conda/lib/python3.7/site-packages (from google-cloud-bigquery<4.0.0dev,>=1.15.0->google-cloud-aiplatform>=1.25) (2.8.2)\n",
      "Requirement already satisfied: grpc-google-iam-v1<1.0.0dev,>=0.12.4 in /opt/conda/lib/python3.7/site-packages (from google-cloud-resource-manager<3.0.0dev,>=1.3.3->google-cloud-aiplatform>=1.25) (0.12.6)\n",
      "Requirement already satisfied: cachetools<6.0,>=2.0.0 in /opt/conda/lib/python3.7/site-packages (from google-auth<3.0dev,>=1.25.0->google-api-core[grpc]!=2.0.*,!=2.1.*,!=2.2.*,!=2.3.*,!=2.4.*,!=2.5.*,!=2.6.*,!=2.7.*,<3.0.0dev,>=1.32.0->google-cloud-aiplatform>=1.25) (4.2.4)\n",
      "Requirement already satisfied: pyasn1-modules>=0.2.1 in /opt/conda/lib/python3.7/site-packages (from google-auth<3.0dev,>=1.25.0->google-api-core[grpc]!=2.0.*,!=2.1.*,!=2.2.*,!=2.3.*,!=2.4.*,!=2.5.*,!=2.6.*,!=2.7.*,<3.0.0dev,>=1.32.0->google-cloud-aiplatform>=1.25) (0.3.0)\n",
      "Requirement already satisfied: rsa<5,>=3.1.4 in /opt/conda/lib/python3.7/site-packages (from google-auth<3.0dev,>=1.25.0->google-api-core[grpc]!=2.0.*,!=2.1.*,!=2.2.*,!=2.3.*,!=2.4.*,!=2.5.*,!=2.6.*,!=2.7.*,<3.0.0dev,>=1.32.0->google-cloud-aiplatform>=1.25) (4.9)\n",
      "Requirement already satisfied: urllib3<2.0 in /opt/conda/lib/python3.7/site-packages (from google-auth<3.0dev,>=1.25.0->google-api-core[grpc]!=2.0.*,!=2.1.*,!=2.2.*,!=2.3.*,!=2.4.*,!=2.5.*,!=2.6.*,!=2.7.*,<3.0.0dev,>=1.32.0->google-cloud-aiplatform>=1.25) (1.26.16)\n",
      "Requirement already satisfied: google-crc32c<2.0dev,>=1.0 in /opt/conda/lib/python3.7/site-packages (from google-resumable-media<3.0dev,>=0.6.0->google-cloud-bigquery<4.0.0dev,>=1.15.0->google-cloud-aiplatform>=1.25) (1.5.0)\n",
      "Requirement already satisfied: six>=1.5.2 in /opt/conda/lib/python3.7/site-packages (from grpcio<2.0dev,>=1.33.2->google-api-core[grpc]!=2.0.*,!=2.1.*,!=2.2.*,!=2.3.*,!=2.4.*,!=2.5.*,!=2.6.*,!=2.7.*,<3.0.0dev,>=1.32.0->google-cloud-aiplatform>=1.25) (1.16.0)\n",
      "Requirement already satisfied: charset-normalizer<4,>=2 in /opt/conda/lib/python3.7/site-packages (from requests<3.0.0dev,>=2.18.0->google-api-core[grpc]!=2.0.*,!=2.1.*,!=2.2.*,!=2.3.*,!=2.4.*,!=2.5.*,!=2.6.*,!=2.7.*,<3.0.0dev,>=1.32.0->google-cloud-aiplatform>=1.25) (2.1.1)\n",
      "Requirement already satisfied: idna<4,>=2.5 in /opt/conda/lib/python3.7/site-packages (from requests<3.0.0dev,>=2.18.0->google-api-core[grpc]!=2.0.*,!=2.1.*,!=2.2.*,!=2.3.*,!=2.4.*,!=2.5.*,!=2.6.*,!=2.7.*,<3.0.0dev,>=1.32.0->google-cloud-aiplatform>=1.25) (3.4)\n",
      "Requirement already satisfied: certifi>=2017.4.17 in /opt/conda/lib/python3.7/site-packages (from requests<3.0.0dev,>=2.18.0->google-api-core[grpc]!=2.0.*,!=2.1.*,!=2.2.*,!=2.3.*,!=2.4.*,!=2.5.*,!=2.6.*,!=2.7.*,<3.0.0dev,>=1.32.0->google-cloud-aiplatform>=1.25) (2023.7.22)\n",
      "Requirement already satisfied: pyasn1<0.6.0,>=0.4.6 in /opt/conda/lib/python3.7/site-packages (from pyasn1-modules>=0.2.1->google-auth<3.0dev,>=1.25.0->google-api-core[grpc]!=2.0.*,!=2.1.*,!=2.2.*,!=2.3.*,!=2.4.*,!=2.5.*,!=2.6.*,!=2.7.*,<3.0.0dev,>=1.32.0->google-cloud-aiplatform>=1.25) (0.5.0)\n"
     ]
    }
   ],
   "source": [
    "# Install Required Libraries\n",
    "!pip3 install \"google-cloud-aiplatform>=1.25\" \"shapely<2.0.0\""
   ]
  },
  {
   "cell_type": "code",
   "execution_count": 5,
   "id": "cb177979-b284-456a-ba78-6a8c3e3870bd",
   "metadata": {},
   "outputs": [],
   "source": [
    "# Import Vertex AI SDK\n",
    "PROJECT_ID = !gcloud config get project\n",
    "PROJECT_ID = PROJECT_ID.n\n",
    "LOCATION = \"europe-west2\"\n",
    "LOCATION_DEPLOY = \"europe-west2\" #Location to deploy GCP resources\n",
    "\n",
    "import vertexai\n",
    "from google.cloud import aiplatform\n",
    "\n",
    "vertexai.init(project=PROJECT_ID, location=LOCATION)"
   ]
  },
  {
   "cell_type": "markdown",
   "id": "dec92d49-de0b-47c4-9071-aa74c2d8c062",
   "metadata": {},
   "source": [
    "## Import TextEmbeddingModel\n",
    "\n",
    "**Available models as of Sep 2023:**\n",
    "| Models | Description\n",
    "| :- | :- |\n",
    "| textembedding-gecko@001 | stable |\n",
    "| textembedding-gecko@latest | public preview: an embeddings model with enhanced AI quality |\n",
    "| textembedding-gecko-multilingual@latest | public preview: an embeddings model designed to use a wide range of non-English languages. |\n",
    "\n",
    "\n",
    "Further documentation on available models can be found here: https://cloud.google.com/vertex-ai/docs/generative-ai/embeddings/get-text-embeddings#generative-ai-get-text-embedding-python"
   ]
  },
  {
   "cell_type": "code",
   "execution_count": 6,
   "id": "bcb9c36d-f0a3-47d2-9ed5-bc99fad4c23c",
   "metadata": {},
   "outputs": [],
   "source": [
    "from vertexai.preview.language_models import TextEmbeddingModel\n",
    "\n",
    "model = TextEmbeddingModel.from_pretrained(\"textembedding-gecko@001\")"
   ]
  },
  {
   "cell_type": "markdown",
   "id": "6b997769-ceaf-4837-afe6-fffae3e4d8ab",
   "metadata": {},
   "source": [
    "## Import Required Packages\n",
    "\n",
    "Outputs with regard to Tensorflow can be ignored as this is caused by this notebook being CPU only, a GPU is not required for this demonstration.\n"
   ]
  },
  {
   "cell_type": "code",
   "execution_count": 8,
   "id": "51e7ebba-ad16-43db-a36d-30cecd8d1316",
   "metadata": {},
   "outputs": [],
   "source": [
    "import json\n",
    "import time\n",
    "\n",
    "import numpy as np\n",
    "import pandas as pd"
   ]
  },
  {
   "cell_type": "markdown",
   "id": "47573a7f-5af5-4163-af8f-4a7462ed14a1",
   "metadata": {},
   "source": [
    "## Create Embedding Dataset.\n",
    "\n",
    "The dataset is solely to demonstrate the use of the Text Embedding API with a vector database. It is not intended to be used for any other purpose, such as evaluating models. The dataset is small and does not represent a comprehensive sample of all possible text.\n",
    "\n",
    "The following command copies the data json file from a google storage bucket, the data is stored locally within the notebook for use. "
   ]
  },
  {
   "cell_type": "code",
   "execution_count": null,
   "id": "ec12607e-a969-44a9-a486-db32303dfa09",
   "metadata": {},
   "outputs": [],
   "source": [
    "!mkdir -p datasets\n",
    "!gsutil cp gs://gen-ai-{PROJECT_ID}-bucket/embeddings/data/google_embeddings_dataset.jsonl ./datasets"
   ]
  },
  {
   "cell_type": "markdown",
   "id": "b676dbc8-7865-41dc-b45f-c5c75cff1f4f",
   "metadata": {
    "tags": []
   },
   "source": [
    "### Load data.json as a python list"
   ]
  },
  {
   "cell_type": "code",
   "execution_count": 16,
   "id": "d229a49b-8cd3-4e77-a34e-abb269a2f8a8",
   "metadata": {},
   "outputs": [],
   "source": [
    "records = []\n",
    "with open(\"../userguides/datasets/google_embeddings_dataset.jsonl\") as f:\n",
    "    for line in f:\n",
    "        record = json.loads(line)\n",
    "        records.append(record)"
   ]
  },
  {
   "cell_type": "markdown",
   "id": "f1c2781e-3d95-44b4-9745-63366fcef6b6",
   "metadata": {},
   "source": [
    "### Peek at the data"
   ]
  },
  {
   "cell_type": "code",
   "execution_count": 12,
   "id": "abcd3dbc-cece-4b58-8aa7-c599024acf56",
   "metadata": {
    "tags": []
   },
   "outputs": [
    {
     "data": {
      "text/html": [
       "<div>\n",
       "<style scoped>\n",
       "    .dataframe tbody tr th:only-of-type {\n",
       "        vertical-align: middle;\n",
       "    }\n",
       "\n",
       "    .dataframe tbody tr th {\n",
       "        vertical-align: top;\n",
       "    }\n",
       "\n",
       "    .dataframe thead th {\n",
       "        text-align: right;\n",
       "    }\n",
       "</style>\n",
       "<table border=\"1\" class=\"dataframe\">\n",
       "  <thead>\n",
       "    <tr style=\"text-align: right;\">\n",
       "      <th></th>\n",
       "      <th>file_name</th>\n",
       "      <th>text</th>\n",
       "    </tr>\n",
       "  </thead>\n",
       "  <tbody>\n",
       "    <tr>\n",
       "      <th>0</th>\n",
       "      <td>whats-new-in-online-for-business.txt</td>\n",
       "      <td>\\nNo\\n</td>\n",
       "    </tr>\n",
       "    <tr>\n",
       "      <th>1</th>\n",
       "      <td>activate-cbo.txt</td>\n",
       "      <td>Activate your Commercial Banking Online accoun...</td>\n",
       "    </tr>\n",
       "    <tr>\n",
       "      <th>2</th>\n",
       "      <td>getting-started-with-the-business-mobile-app.txt</td>\n",
       "      <td>Getting started with the Business Mobile Banki...</td>\n",
       "    </tr>\n",
       "    <tr>\n",
       "      <th>3</th>\n",
       "      <td>account-management.txt</td>\n",
       "      <td>Account ManagementAccess &amp; permissionsAdd or r...</td>\n",
       "    </tr>\n",
       "    <tr>\n",
       "      <th>4</th>\n",
       "      <td>confirmation-of-payee.txt</td>\n",
       "      <td>Make payments with confidenceConfirmation of P...</td>\n",
       "    </tr>\n",
       "  </tbody>\n",
       "</table>\n",
       "</div>"
      ],
      "text/plain": [
       "                                          file_name  \\\n",
       "0              whats-new-in-online-for-business.txt   \n",
       "1                                  activate-cbo.txt   \n",
       "2  getting-started-with-the-business-mobile-app.txt   \n",
       "3                            account-management.txt   \n",
       "4                         confirmation-of-payee.txt   \n",
       "\n",
       "                                                text  \n",
       "0                                             \\nNo\\n  \n",
       "1  Activate your Commercial Banking Online accoun...  \n",
       "2  Getting started with the Business Mobile Banki...  \n",
       "3  Account ManagementAccess & permissionsAdd or r...  \n",
       "4  Make payments with confidenceConfirmation of P...  "
      ]
     },
     "execution_count": 12,
     "metadata": {},
     "output_type": "execute_result"
    }
   ],
   "source": [
    "df = pd.read_csv('text_data.csv')\n",
    "df.head(5)"
   ]
  },
  {
   "cell_type": "code",
   "execution_count": 11,
   "id": "8e19d81c-a106-4ced-b54f-e8288bacb41e",
   "metadata": {},
   "outputs": [
    {
     "name": "stdout",
     "output_type": "stream",
     "text": [
      "/home/jupyter/help_guide\n"
     ]
    }
   ],
   "source": [
    "cd ../help_guide"
   ]
  },
  {
   "cell_type": "markdown",
   "id": "dd147c2f-6653-48c2-ad64-df8255b2aba0",
   "metadata": {},
   "source": [
    "### Get embeddings from the Google Embedding Model\n",
    "\n",
    "The following code sends a request to the embedding model api to get the embedding vector for each entry in the dataset and stores it in a Python DataFrame.\n",
    "\n",
    "The number of dimensions of the embedding vectors is 768 for the text-embedding gecko model."
   ]
  },
  {
   "cell_type": "code",
   "execution_count": 13,
   "id": "4f732506-1c2a-4117-a9b6-132e49ecc601",
   "metadata": {},
   "outputs": [],
   "source": [
    "def get_embedding(text):\n",
    "    get_embedding.counter += 1\n",
    "    try:\n",
    "        if get_embedding.counter % 100 == 0:\n",
    "            time.sleep(3)\n",
    "        return model.get_embeddings([text])[0].values #Send request to embedding model\n",
    "    except:\n",
    "        return []\n",
    "\n",
    "\n",
    "get_embedding.counter = 0\n",
    "\n",
    "# This may take several minutes to complete.\n",
    "df[\"embedding\"] = df[\"text\"].apply(lambda x: get_embedding(x))\n",
    "\n",
    "# Convert the embeddings into a Python list \n",
    "embeddings_list = df['embedding'].values.tolist()"
   ]
  },
  {
   "cell_type": "markdown",
   "id": "705fd1ff-4a74-4fa9-a8cf-9661608cf816",
   "metadata": {},
   "source": [
    "## Using Vertex AI Vector Search Approximate Nearest Neighbour (ANN) Service\n",
    "\n",
    "Vertex AI Vector Search (formerly known as Matching Engine) is a vector database, which can find the most similar vectors from over a billion vectors. Matching Engine's ANN service can serve similarity-matching queries at high queries per second (QPS).\n",
    "\n",
    "Further Details and Documentation: https://cloud.google.com/vertex-ai/docs/matching-engine/ann-service-overview\n",
    "\n",
    "**Terminology**\n",
    "- **Index:** A collection of vectors deployed together for similarity search. Vectors can be added to an index or removed from an index. Similarity search queries are issued to a specific index and will search over the vectors in that index.\n",
    "- **Recall:** The percentage of true nearest neighbors returned by the index. For example, if a nearest neighbor query for 20 nearest neighbors returned 19 of the \"ground truth\" nearest neighbors, the recall is 19/20x100 = 95%.\n",
    "- **Restricts:** Functionality to \"restrict\" searches to a subset of the index by using Boolean rules."
   ]
  },
  {
   "cell_type": "markdown",
   "id": "23c542d5-3021-4f24-9b39-9bd7b5e6163f",
   "metadata": {},
   "source": [
    "### Generate Embedding File\n",
    "\n",
    "\n",
    "This function converts the embedding and saves it into a json file format usable with matching engine in the following format. \n",
    "- Encode the file using UTF-8.\n",
    "- Make each line a valid JSON object to be interpreted as a record.\n",
    "- Include in each record a field named id that requires a valid UTF-8 string that is the ID of the vector.\n",
    "- Include in each record a field named embedding that requires an array of numbers. This is the feature vector.\n",
    "\n",
    "Other file formats can be found here: https://cloud.google.com/vertex-ai/docs/matching-engine/match-eng-setup/format-structure#json"
   ]
  },
  {
   "cell_type": "code",
   "execution_count": 18,
   "id": "bba45144-ba7e-4b76-a13c-26cae65f6ab5",
   "metadata": {},
   "outputs": [],
   "source": [
    "with open(\"../userguides/datasets/vector_search_dataset.json\", \"w\") as f:\n",
    "    for i in range(len(embeddings_list)):\n",
    "        f.write('{\"id\":\"' + str(i) + '\",')\n",
    "        f.write('\"embedding\":[' + \",\".join(str(x) for x in embeddings_list[i]) + \"]}\")\n",
    "        f.write(\"\\n\")"
   ]
  },
  {
   "cell_type": "markdown",
   "id": "e04efd0b-245a-4f3c-90b2-6443c235f4b4",
   "metadata": {},
   "source": [
    "### Copy Dataset to Storage Bucket\n",
    "The following command copies the data file to a cloud storage bucket. Folder structure documentation: https://cloud.google.com/vertex-ai/docs/matching-engine/match-eng-setup/format-structure#input_directory_structure\n",
    "\n",
    "Supported Update Methods:\n",
    "- **Batch:** To update the content of an existing Index, use the IndexService.UpdateIndex method.\n",
    "- **Streaming:** With Streaming Updates, you can update and query your index within a few seconds. At this time, you can't use Streaming Updates on an existing index, you must create a new index.\n",
    "\n",
    "Documentation: https://cloud.google.com/vertex-ai/docs/matching-engine/update-rebuild-index#update_index_content_with_batch_updates"
   ]
  },
  {
   "cell_type": "code",
   "execution_count": 19,
   "id": "bd50467c-d690-4e12-85eb-644aa87dc125",
   "metadata": {},
   "outputs": [
    {
     "name": "stdout",
     "output_type": "stream",
     "text": [
      "Copying file://../userguides/datasets/vector_search_dataset.json [Content-Type=application/json]...\n",
      "/ [1 files][  1.0 MiB/  1.0 MiB]                                                \n",
      "Operation completed over 1 objects/1.0 MiB.                                      \n"
     ]
    }
   ],
   "source": [
    "!mkdir -p datasets\n",
    "!gsutil copy ../userguides/datasets/vector_search_dataset.json gs://gen-ai-{PROJECT_ID}-bucket/embeddings/vs_root/vector_search_dataset.json"
   ]
  },
  {
   "cell_type": "markdown",
   "id": "026abd3e-27e5-4df2-b23a-d2625eda989e",
   "metadata": {},
   "source": [
    "### Create an Index\n",
    "\n",
    "Details on configuration parameters can be found here: https://cloud.google.com/vertex-ai/docs/matching-engine/configuring-indexes\n",
    "\n",
    "**It can take up to 30 minutes to deploy.**\n"
   ]
  },
  {
   "cell_type": "code",
   "execution_count": 20,
   "id": "d9a65998-92a3-4d9c-b729-92f44352a86a",
   "metadata": {},
   "outputs": [
    {
     "name": "stdout",
     "output_type": "stream",
     "text": [
      "Creating MatchingEngineIndex\n",
      "Create MatchingEngineIndex backing LRO: projects/474327682772/locations/europe-west2/indexes/4509369864393064448/operations/3099689304956338176\n",
      "MatchingEngineIndex created. Resource name: projects/474327682772/locations/europe-west2/indexes/4509369864393064448\n",
      "To use this MatchingEngineIndex in another session:\n",
      "index = aiplatform.MatchingEngineIndex('projects/474327682772/locations/europe-west2/indexes/4509369864393064448')\n"
     ]
    }
   ],
   "source": [
    "DIMENSIONS = 768\n",
    "GS_URI = \"gs://gen-ai-%s-bucket/embeddings/vs_root/\" % PROJECT_ID\n",
    "\n",
    "gen_ai_index = aiplatform.MatchingEngineIndex.create_tree_ah_index(\n",
    "    display_name=\"Gen AI Index\",\n",
    "    contents_delta_uri=GS_URI,\n",
    "    dimensions=DIMENSIONS,\n",
    "    approximate_neighbors_count=5,\n",
    "    distance_measure_type=\"DOT_PRODUCT_DISTANCE\",\n",
    "    leaf_node_embedding_count=10,\n",
    "    leaf_nodes_to_search_percent=80,\n",
    "    description=\"Example Index for Gen AI Playpen\",\n",
    "    location=LOCATION_DEPLOY\n",
    ")"
   ]
  },
  {
   "cell_type": "markdown",
   "id": "90580dc3-0ea9-490a-8dd9-bae9d6eb1d0f",
   "metadata": {},
   "source": [
    "### Create an Index Endpoint\n",
    "\n",
    "The following function is used to create an index endpoint, this allows for queries to be sent to the index"
   ]
  },
  {
   "cell_type": "code",
   "execution_count": 21,
   "id": "879730f0-08e1-43cb-8e9d-84ed5ed21eb6",
   "metadata": {},
   "outputs": [
    {
     "name": "stdout",
     "output_type": "stream",
     "text": [
      "Creating MatchingEngineIndexEndpoint\n",
      "Create MatchingEngineIndexEndpoint backing LRO: projects/474327682772/locations/europe-west2/indexEndpoints/2225481903362801664/operations/6486396224738951168\n",
      "MatchingEngineIndexEndpoint created. Resource name: projects/474327682772/locations/europe-west2/indexEndpoints/2225481903362801664\n",
      "To use this MatchingEngineIndexEndpoint in another session:\n",
      "index_endpoint = aiplatform.MatchingEngineIndexEndpoint('projects/474327682772/locations/europe-west2/indexEndpoints/2225481903362801664')\n"
     ]
    }
   ],
   "source": [
    "gen_ai_index_endpoint = aiplatform.MatchingEngineIndexEndpoint.create(\n",
    "    display_name=\"Gen AI Index Endpoint\",\n",
    "    description=\"Example Index for Gen AI Playpen\",\n",
    "    public_endpoint_enabled=True,\n",
    "    location=LOCATION_DEPLOY\n",
    ")"
   ]
  },
  {
   "cell_type": "markdown",
   "id": "9c676aad-7a40-4eda-a707-b05826116648",
   "metadata": {},
   "source": [
    "### Deploy the Index to the Index-Endpoint"
   ]
  },
  {
   "cell_type": "code",
   "execution_count": null,
   "id": "fbb12ba9-daec-4447-bbc4-5f515eeed6de",
   "metadata": {},
   "outputs": [],
   "source": [
    "gen_ai_index_endpoint = gen_ai_index_endpoint.deploy_index(\n",
    "    index=gen_ai_index, deployed_index_id=\"gen_ai_deployed_index\",\n",
    "    machine_type=\"e2-standard-16\",\n",
    "    min_replica_count=1,\n",
    "    max_replica_count=1\n",
    ")\n",
    "\n",
    "gen_ai_index_endpoint.deployed_indexes"
   ]
  },
  {
   "cell_type": "markdown",
   "id": "7c846460-0cdb-4450-890e-0750be664d72",
   "metadata": {},
   "source": [
    "### Additional Functions:\n",
    "Uncomment, replace the relevant project, region and ids to retrieve indexes and index endpoints. The ids can be found on the cloud console under Vertex AI and Vector Search on the left bar. This is useful as obtaining the index objects allow for functions on them (such as delete or query) if the notebook kernels etc. have been reset."
   ]
  },
  {
   "cell_type": "code",
   "execution_count": null,
   "id": "ed7f36ad-baf8-4840-b54f-4f3ad6ac483d",
   "metadata": {},
   "outputs": [],
   "source": [
    "# gen_ai_index_endpoint = aiplatform.MatchingEngineIndexEndpoint(\n",
    "#     index_endpoint_name=\"projects/playpen-b90269/locations/europe-west2/indexEndpoints/7664563615831162880\"\n",
    "# )\n",
    "\n",
    "# gen_ai_index = aiplatform.MatchingEngineIndex(\n",
    "#     index_name=\"projects/replace_with_project_id/locations/europe-west2/indexes/replace_with_id\"\n",
    "# )"
   ]
  },
  {
   "cell_type": "markdown",
   "id": "887be221-5fb5-4c63-8cff-015ea87337ee",
   "metadata": {},
   "source": [
    "### Create Online Queries\n",
    "\n",
    "Pre-define function that generates an embedding for an input prompt using the embeddings-gecko model and performs a search."
   ]
  },
  {
   "cell_type": "code",
   "execution_count": 22,
   "id": "671ba8a5-b52f-4f94-9763-436714450fda",
   "metadata": {},
   "outputs": [],
   "source": [
    "NUM_NEIGHBOURS = 3 #Number of neighbours from query\n",
    "\n",
    "def search(input):\n",
    "    embedding_vec =  model.get_embeddings([input])[0].values #Send request to embedding model to generate the embedding vector\n",
    "    \n",
    "    #find neighbours using vector search\n",
    "    neighbours = gen_ai_index_endpoint.find_neighbors(\n",
    "        deployed_index_id=\"gen_ai_deployed_index\",\n",
    "        queries=[embedding_vec],\n",
    "        num_neighbors=NUM_NEIGHBOURS,\n",
    "    )[0]\n",
    "    \n",
    "    for nb in neighbours:\n",
    "        print(\"id: \" + nb.id + \" | text: \" + df.iloc[int(nb.id)][\"text\"] + \" | dist: \" + str(nb.distance)) "
   ]
  },
  {
   "cell_type": "markdown",
   "id": "54040490-9889-499d-94a6-83529908d956",
   "metadata": {},
   "source": [
    "### Example Queries\n",
    "\n",
    "If you face an openssl error, please wait up to 5 minutes for the endpoint to finish deploying."
   ]
  },
  {
   "cell_type": "code",
   "execution_count": 23,
   "id": "ebf879ce-1927-48f6-9b39-4da8947fca6d",
   "metadata": {},
   "outputs": [
    {
     "ename": "ServiceUnavailable",
     "evalue": "503 DNS resolution failed for 1436350847.europe-west2-474327682772.vdb.vertexai.goog:443: C-ares status is not ARES_SUCCESS qtype=A name=1436350847.europe-west2-474327682772.vdb.vertexai.goog is_balancer=0: Domain name not found",
     "output_type": "error",
     "traceback": [
      "\u001b[0;31m---------------------------------------------------------------------------\u001b[0m",
      "\u001b[0;31m_InactiveRpcError\u001b[0m                         Traceback (most recent call last)",
      "\u001b[0;32m/opt/conda/lib/python3.7/site-packages/google/api_core/grpc_helpers.py\u001b[0m in \u001b[0;36merror_remapped_callable\u001b[0;34m(*args, **kwargs)\u001b[0m\n\u001b[1;32m     64\u001b[0m         \u001b[0;32mtry\u001b[0m\u001b[0;34m:\u001b[0m\u001b[0;34m\u001b[0m\u001b[0;34m\u001b[0m\u001b[0m\n\u001b[0;32m---> 65\u001b[0;31m             \u001b[0;32mreturn\u001b[0m \u001b[0mcallable_\u001b[0m\u001b[0;34m(\u001b[0m\u001b[0;34m*\u001b[0m\u001b[0margs\u001b[0m\u001b[0;34m,\u001b[0m \u001b[0;34m**\u001b[0m\u001b[0mkwargs\u001b[0m\u001b[0;34m)\u001b[0m\u001b[0;34m\u001b[0m\u001b[0;34m\u001b[0m\u001b[0m\n\u001b[0m\u001b[1;32m     66\u001b[0m         \u001b[0;32mexcept\u001b[0m \u001b[0mgrpc\u001b[0m\u001b[0;34m.\u001b[0m\u001b[0mRpcError\u001b[0m \u001b[0;32mas\u001b[0m \u001b[0mexc\u001b[0m\u001b[0;34m:\u001b[0m\u001b[0;34m\u001b[0m\u001b[0;34m\u001b[0m\u001b[0m\n",
      "\u001b[0;32m/opt/conda/lib/python3.7/site-packages/grpc/_channel.py\u001b[0m in \u001b[0;36m__call__\u001b[0;34m(self, request, timeout, metadata, credentials, wait_for_ready, compression)\u001b[0m\n\u001b[1;32m   1160\u001b[0m         )\n\u001b[0;32m-> 1161\u001b[0;31m         \u001b[0;32mreturn\u001b[0m \u001b[0m_end_unary_response_blocking\u001b[0m\u001b[0;34m(\u001b[0m\u001b[0mstate\u001b[0m\u001b[0;34m,\u001b[0m \u001b[0mcall\u001b[0m\u001b[0;34m,\u001b[0m \u001b[0;32mFalse\u001b[0m\u001b[0;34m,\u001b[0m \u001b[0;32mNone\u001b[0m\u001b[0;34m)\u001b[0m\u001b[0;34m\u001b[0m\u001b[0;34m\u001b[0m\u001b[0m\n\u001b[0m\u001b[1;32m   1162\u001b[0m \u001b[0;34m\u001b[0m\u001b[0m\n",
      "\u001b[0;32m/opt/conda/lib/python3.7/site-packages/grpc/_channel.py\u001b[0m in \u001b[0;36m_end_unary_response_blocking\u001b[0;34m(state, call, with_call, deadline)\u001b[0m\n\u001b[1;32m   1003\u001b[0m     \u001b[0;32melse\u001b[0m\u001b[0;34m:\u001b[0m\u001b[0;34m\u001b[0m\u001b[0;34m\u001b[0m\u001b[0m\n\u001b[0;32m-> 1004\u001b[0;31m         \u001b[0;32mraise\u001b[0m \u001b[0m_InactiveRpcError\u001b[0m\u001b[0;34m(\u001b[0m\u001b[0mstate\u001b[0m\u001b[0;34m)\u001b[0m  \u001b[0;31m# pytype: disable=not-instantiable\u001b[0m\u001b[0;34m\u001b[0m\u001b[0;34m\u001b[0m\u001b[0m\n\u001b[0m\u001b[1;32m   1005\u001b[0m \u001b[0;34m\u001b[0m\u001b[0m\n",
      "\u001b[0;31m_InactiveRpcError\u001b[0m: <_InactiveRpcError of RPC that terminated with:\n\tstatus = StatusCode.UNAVAILABLE\n\tdetails = \"DNS resolution failed for 1436350847.europe-west2-474327682772.vdb.vertexai.goog:443: C-ares status is not ARES_SUCCESS qtype=A name=1436350847.europe-west2-474327682772.vdb.vertexai.goog is_balancer=0: Domain name not found\"\n\tdebug_error_string = \"UNKNOWN:DNS resolution failed for 1436350847.europe-west2-474327682772.vdb.vertexai.goog:443: C-ares status is not ARES_SUCCESS qtype=A name=1436350847.europe-west2-474327682772.vdb.vertexai.goog is_balancer=0: Domain name not found {created_time:\"2023-12-01T10:00:45.526493739+00:00\", grpc_status:14}\"\n>",
      "\nThe above exception was the direct cause of the following exception:\n",
      "\u001b[0;31mServiceUnavailable\u001b[0m                        Traceback (most recent call last)",
      "\u001b[0;32m/var/tmp/ipykernel_12734/3731130527.py\u001b[0m in \u001b[0;36m<module>\u001b[0;34m\u001b[0m\n\u001b[0;32m----> 1\u001b[0;31m \u001b[0msearch\u001b[0m\u001b[0;34m(\u001b[0m\u001b[0;34m\"tell me about reporting stolen card\"\u001b[0m\u001b[0;34m)\u001b[0m\u001b[0;34m\u001b[0m\u001b[0;34m\u001b[0m\u001b[0m\n\u001b[0m",
      "\u001b[0;32m/var/tmp/ipykernel_12734/4197642324.py\u001b[0m in \u001b[0;36msearch\u001b[0;34m(input)\u001b[0m\n\u001b[1;32m      8\u001b[0m         \u001b[0mdeployed_index_id\u001b[0m\u001b[0;34m=\u001b[0m\u001b[0;34m\"gen_ai_deployed_index\"\u001b[0m\u001b[0;34m,\u001b[0m\u001b[0;34m\u001b[0m\u001b[0;34m\u001b[0m\u001b[0m\n\u001b[1;32m      9\u001b[0m         \u001b[0mqueries\u001b[0m\u001b[0;34m=\u001b[0m\u001b[0;34m[\u001b[0m\u001b[0membedding_vec\u001b[0m\u001b[0;34m]\u001b[0m\u001b[0;34m,\u001b[0m\u001b[0;34m\u001b[0m\u001b[0;34m\u001b[0m\u001b[0m\n\u001b[0;32m---> 10\u001b[0;31m         \u001b[0mnum_neighbors\u001b[0m\u001b[0;34m=\u001b[0m\u001b[0mNUM_NEIGHBOURS\u001b[0m\u001b[0;34m,\u001b[0m\u001b[0;34m\u001b[0m\u001b[0;34m\u001b[0m\u001b[0m\n\u001b[0m\u001b[1;32m     11\u001b[0m     )[0]\n\u001b[1;32m     12\u001b[0m \u001b[0;34m\u001b[0m\u001b[0m\n",
      "\u001b[0;32m/opt/conda/lib/python3.7/site-packages/google/cloud/aiplatform/matching_engine/matching_engine_index_endpoint.py\u001b[0m in \u001b[0;36mfind_neighbors\u001b[0;34m(self, deployed_index_id, queries, num_neighbors, filter)\u001b[0m\n\u001b[1;32m   1009\u001b[0m             \u001b[0mfind_neighbors_request\u001b[0m\u001b[0;34m.\u001b[0m\u001b[0mqueries\u001b[0m\u001b[0;34m.\u001b[0m\u001b[0mappend\u001b[0m\u001b[0;34m(\u001b[0m\u001b[0mfind_neighbors_query\u001b[0m\u001b[0;34m)\u001b[0m\u001b[0;34m\u001b[0m\u001b[0;34m\u001b[0m\u001b[0m\n\u001b[1;32m   1010\u001b[0m \u001b[0;34m\u001b[0m\u001b[0m\n\u001b[0;32m-> 1011\u001b[0;31m         \u001b[0mresponse\u001b[0m \u001b[0;34m=\u001b[0m \u001b[0mself\u001b[0m\u001b[0;34m.\u001b[0m\u001b[0m_public_match_client\u001b[0m\u001b[0;34m.\u001b[0m\u001b[0mfind_neighbors\u001b[0m\u001b[0;34m(\u001b[0m\u001b[0mfind_neighbors_request\u001b[0m\u001b[0;34m)\u001b[0m\u001b[0;34m\u001b[0m\u001b[0;34m\u001b[0m\u001b[0m\n\u001b[0m\u001b[1;32m   1012\u001b[0m \u001b[0;34m\u001b[0m\u001b[0m\n\u001b[1;32m   1013\u001b[0m         \u001b[0;31m# Wrap the results in MatchNeighbor objects and return\u001b[0m\u001b[0;34m\u001b[0m\u001b[0;34m\u001b[0m\u001b[0;34m\u001b[0m\u001b[0m\n",
      "\u001b[0;32m/opt/conda/lib/python3.7/site-packages/google/cloud/aiplatform_v1beta1/services/match_service/client.py\u001b[0m in \u001b[0;36mfind_neighbors\u001b[0;34m(self, request, retry, timeout, metadata)\u001b[0m\n\u001b[1;32m    523\u001b[0m             \u001b[0mretry\u001b[0m\u001b[0;34m=\u001b[0m\u001b[0mretry\u001b[0m\u001b[0;34m,\u001b[0m\u001b[0;34m\u001b[0m\u001b[0;34m\u001b[0m\u001b[0m\n\u001b[1;32m    524\u001b[0m             \u001b[0mtimeout\u001b[0m\u001b[0;34m=\u001b[0m\u001b[0mtimeout\u001b[0m\u001b[0;34m,\u001b[0m\u001b[0;34m\u001b[0m\u001b[0;34m\u001b[0m\u001b[0m\n\u001b[0;32m--> 525\u001b[0;31m             \u001b[0mmetadata\u001b[0m\u001b[0;34m=\u001b[0m\u001b[0mmetadata\u001b[0m\u001b[0;34m,\u001b[0m\u001b[0;34m\u001b[0m\u001b[0;34m\u001b[0m\u001b[0m\n\u001b[0m\u001b[1;32m    526\u001b[0m         )\n\u001b[1;32m    527\u001b[0m \u001b[0;34m\u001b[0m\u001b[0m\n",
      "\u001b[0;32m/opt/conda/lib/python3.7/site-packages/google/api_core/gapic_v1/method.py\u001b[0m in \u001b[0;36m__call__\u001b[0;34m(self, timeout, retry, *args, **kwargs)\u001b[0m\n\u001b[1;32m    111\u001b[0m             \u001b[0mkwargs\u001b[0m\u001b[0;34m[\u001b[0m\u001b[0;34m\"metadata\"\u001b[0m\u001b[0;34m]\u001b[0m \u001b[0;34m=\u001b[0m \u001b[0mmetadata\u001b[0m\u001b[0;34m\u001b[0m\u001b[0;34m\u001b[0m\u001b[0m\n\u001b[1;32m    112\u001b[0m \u001b[0;34m\u001b[0m\u001b[0m\n\u001b[0;32m--> 113\u001b[0;31m         \u001b[0;32mreturn\u001b[0m \u001b[0mwrapped_func\u001b[0m\u001b[0;34m(\u001b[0m\u001b[0;34m*\u001b[0m\u001b[0margs\u001b[0m\u001b[0;34m,\u001b[0m \u001b[0;34m**\u001b[0m\u001b[0mkwargs\u001b[0m\u001b[0;34m)\u001b[0m\u001b[0;34m\u001b[0m\u001b[0;34m\u001b[0m\u001b[0m\n\u001b[0m\u001b[1;32m    114\u001b[0m \u001b[0;34m\u001b[0m\u001b[0m\n\u001b[1;32m    115\u001b[0m \u001b[0;34m\u001b[0m\u001b[0m\n",
      "\u001b[0;32m/opt/conda/lib/python3.7/site-packages/google/api_core/grpc_helpers.py\u001b[0m in \u001b[0;36merror_remapped_callable\u001b[0;34m(*args, **kwargs)\u001b[0m\n\u001b[1;32m     65\u001b[0m             \u001b[0;32mreturn\u001b[0m \u001b[0mcallable_\u001b[0m\u001b[0;34m(\u001b[0m\u001b[0;34m*\u001b[0m\u001b[0margs\u001b[0m\u001b[0;34m,\u001b[0m \u001b[0;34m**\u001b[0m\u001b[0mkwargs\u001b[0m\u001b[0;34m)\u001b[0m\u001b[0;34m\u001b[0m\u001b[0;34m\u001b[0m\u001b[0m\n\u001b[1;32m     66\u001b[0m         \u001b[0;32mexcept\u001b[0m \u001b[0mgrpc\u001b[0m\u001b[0;34m.\u001b[0m\u001b[0mRpcError\u001b[0m \u001b[0;32mas\u001b[0m \u001b[0mexc\u001b[0m\u001b[0;34m:\u001b[0m\u001b[0;34m\u001b[0m\u001b[0;34m\u001b[0m\u001b[0m\n\u001b[0;32m---> 67\u001b[0;31m             \u001b[0;32mraise\u001b[0m \u001b[0mexceptions\u001b[0m\u001b[0;34m.\u001b[0m\u001b[0mfrom_grpc_error\u001b[0m\u001b[0;34m(\u001b[0m\u001b[0mexc\u001b[0m\u001b[0;34m)\u001b[0m \u001b[0;32mfrom\u001b[0m \u001b[0mexc\u001b[0m\u001b[0;34m\u001b[0m\u001b[0;34m\u001b[0m\u001b[0m\n\u001b[0m\u001b[1;32m     68\u001b[0m \u001b[0;34m\u001b[0m\u001b[0m\n\u001b[1;32m     69\u001b[0m     \u001b[0;32mreturn\u001b[0m \u001b[0merror_remapped_callable\u001b[0m\u001b[0;34m\u001b[0m\u001b[0;34m\u001b[0m\u001b[0m\n",
      "\u001b[0;31mServiceUnavailable\u001b[0m: 503 DNS resolution failed for 1436350847.europe-west2-474327682772.vdb.vertexai.goog:443: C-ares status is not ARES_SUCCESS qtype=A name=1436350847.europe-west2-474327682772.vdb.vertexai.goog is_balancer=0: Domain name not found"
     ]
    }
   ],
   "source": [
    "search(\"tell me about reporting stolen card\")"
   ]
  },
  {
   "cell_type": "code",
   "execution_count": null,
   "id": "ed4eca81-cffa-4f5e-9851-780ecdc6ccf5",
   "metadata": {},
   "outputs": [],
   "source": [
    "search(\"tell me about an important moment or event in your life\")"
   ]
  },
  {
   "cell_type": "markdown",
   "id": "85b9abd4-ae9f-4eb4-a0b8-97575d670b5f",
   "metadata": {},
   "source": [
    "### Clean Up Resources"
   ]
  },
  {
   "cell_type": "code",
   "execution_count": null,
   "id": "59026bc8-9b3c-4bcd-b1f6-2f16de1e12c7",
   "metadata": {},
   "outputs": [],
   "source": [
    "gen_ai_index_endpoint.undeploy_all()\n",
    "gen_ai_index_endpoint.delete() #index endpoint"
   ]
  },
  {
   "cell_type": "code",
   "execution_count": null,
   "id": "615d189e-2066-4719-9d27-1fb8a18ce1cb",
   "metadata": {},
   "outputs": [],
   "source": [
    "gen_ai_index.delete()"
   ]
  }
 ],
 "metadata": {
  "environment": {
   "kernel": "python3",
   "name": "tf2-cpu.2-11.m112",
   "type": "gcloud",
   "uri": "gcr.io/deeplearning-platform-release/tf2-cpu.2-11:m112"
  },
  "kernelspec": {
   "display_name": "Python 3",
   "language": "python",
   "name": "python3"
  },
  "language_info": {
   "codemirror_mode": {
    "name": "ipython",
    "version": 3
   },
   "file_extension": ".py",
   "mimetype": "text/x-python",
   "name": "python",
   "nbconvert_exporter": "python",
   "pygments_lexer": "ipython3",
   "version": "3.7.12"
  }
 },
 "nbformat": 4,
 "nbformat_minor": 5
}
