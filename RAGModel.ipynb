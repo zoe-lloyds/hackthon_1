{
 "cells": [
  {
   "cell_type": "markdown",
   "id": "d6484645-7a69-483d-ab99-441514f440c0",
   "metadata": {},
   "source": [
    "If any problems occur, please refer to the E2_Vector_Search to check out the set up process. "
   ]
  },
  {
   "cell_type": "code",
   "execution_count": null,
   "id": "0c808834-cb99-4dee-9097-7c766734cc5a",
   "metadata": {},
   "outputs": [],
   "source": [
    "# Import Vertex AI SDK\n",
    "PROJECT_ID = !gcloud config get project\n",
    "PROJECT_ID = PROJECT_ID.n\n",
    "LOCATION = \"europe-west2\"\n",
    "LOCATION_DEPLOY = \"europe-west2\" #Location to deploy GCP resources\n",
    "\n",
    "import vertexai\n",
    "from google.cloud import aiplatform\n",
    "\n",
    "vertexai.init(project=PROJECT_ID, location=LOCATION)"
   ]
  },
  {
   "cell_type": "code",
   "execution_count": 33,
   "id": "55984b68-a0cd-4d7e-b3c0-9d5d3a274ea8",
   "metadata": {},
   "outputs": [],
   "source": [
    "from vertexai.preview.language_models import ChatModel\n",
    "\n",
    "class PaLMWrapper:\n",
    "    def __init__(self):\n",
    "        self.chat_model = ChatModel.from_pretrained(\"chat-bison@001\")\n",
    "        self.parameters = {\n",
    "            \"temperature\": 0.3,\n",
    "            \"max_output_tokens\": 256,\n",
    "            \"top_p\": 0.95,\n",
    "        }\n",
    "    \n",
    "    def generate_response(self, context, message):\n",
    "        chat = self.chat_model.start_chat(context=context)\n",
    "        response = chat.send_message(message, **self.parameters)\n",
    "        return response.text"
   ]
  },
  {
   "cell_type": "code",
   "execution_count": 2,
   "id": "87611f14-b46d-468a-97f8-7c469b96b739",
   "metadata": {},
   "outputs": [
    {
     "data": {
      "text/plain": [
       "\"Today's weather in London is cloudy with a high of 15 degrees Celsius and a low of 10 degrees Celsius. There is a 20% chance of rain.\""
      ]
     },
     "execution_count": 2,
     "metadata": {},
     "output_type": "execute_result"
    }
   ],
   "source": [
    "pw = PaLMWrapper()\n",
    "response = pw.generate_response(context='you are a london weather forecaster', message='whats the weather like today')\n",
    "response"
   ]
  },
  {
   "cell_type": "code",
   "execution_count": 3,
   "id": "df757677-25f2-437b-a38e-76deca85e834",
   "metadata": {},
   "outputs": [],
   "source": [
    "import pandas as pd\n",
    "\n",
    "import vertexai\n",
    "from vertexai.preview.language_models import TextEmbeddingModel\n",
    "from google.cloud import aiplatform\n",
    "\n",
    "class VertexAIVectorStore:\n",
    "    def __init__(self):\n",
    "        \n",
    "        # god awful way of doing it, should be a config and passed through but oh well hacky hack\n",
    "        self.gen_ai_index_endpoint = aiplatform.MatchingEngineIndexEndpoint(\n",
    "            index_endpoint_name=\"projects/playpen-8d8611/locations/europe-west2/indexEndpoints/5891412000042385408\"\n",
    "        )\n",
    "\n",
    "        self.gen_ai_index = aiplatform.MatchingEngineIndex(\n",
    "            index_name=\"projects/playpen-8d8611/locations/europe-west2/indexes/2680908415680643072\"\n",
    "        )\n",
    "        \n",
    "        self.model = TextEmbeddingModel.from_pretrained(\"textembedding-gecko@001\")\n",
    "        self.df = pd.read_csv('text_data_g_embedding.csv')\n",
    "        \n",
    "    def search(self, input, k=3):\n",
    "        embedding_vec =  self.model.get_embeddings([input])[0].values #Send request to embedding model to generate the embedding vector\n",
    "\n",
    "        #find neighbours using vector search\n",
    "        neighbours = self.gen_ai_index_endpoint.find_neighbors(\n",
    "            deployed_index_id=\"gen_ai_deployed_index\",\n",
    "            queries=[embedding_vec],\n",
    "            num_neighbors=k,\n",
    "        )[0]\n",
    "        \n",
    "        results = []\n",
    "        for nb in neighbours:\n",
    "            text_id = nb.id\n",
    "            text = self.df.iloc[int(nb.id)]['text']\n",
    "            score = nb.distance\n",
    "            results.append((text_id, text, score))\n",
    "        \n",
    "        return results\n"
   ]
  },
  {
   "cell_type": "code",
   "execution_count": 4,
   "id": "d8bf494d-8103-47d7-afa6-10555b5e422e",
   "metadata": {},
   "outputs": [
    {
     "data": {
      "text/plain": [
       "[('41',\n",
       "  'Security & fraudLost or stolen cardsReport a lost or stolen Business CardReport a lost or stolen Business payment cardReport a lost or stolen Corporate CardReport a lost or stolen Corpoarate cardReport a fraudReport a fraud on our business accountsMake a complaintReport fraudulent use of online bankingStaying safeProtect your business from fraudManage the cyber threat to your business',\n",
       "  0.7093294858932495),\n",
       " ('55',\n",
       "  \"Report\\xa0fraud on online business bankingCall us immediately\\xa0 if you think any of your Lloyds Business Bank accounts have been:accessed by a third party\\xa0ortargeted for\\xa0fraud.Please get in touch even if you haven't suffered any loss from the attempted fraud.This page is for business customersFind out how to report fraud if you’re a personal customerReport FraudBy PhoneOnline for Business\\xa00800 056 3099Commercial Banking Online\\xa00800 169 1296+44 1293 762 380 from abroad.\\xa0Lines are open 24 hours.You'll need to tell us the reason for your call so we can direct you to our fraud team.\\xa0Suspicious emailsRemember, we will never send you an email or a link to a website that asks you to enter your Internet Banking details. If you get anything like this, do not reply and forward it to our fraud team: emailscams@lloydsbank.co.ukWas this helpful?\\xa0YesNoNoReport\\xa0fraud on online business bankingCall us immediately\\xa0 if you think any of your Lloyds Business Bank accounts have been:accessed by a third party\\xa0ortargeted for\\xa0fraud.Please get in touch even if you haven't suffered any loss from the attempted fraud.This page is for business customersFind out how to report fraud if you’re a personal customerReport FraudBy PhoneOnline for Business\\xa00800 056 3099Commercial Banking Online\\xa00800 169 1296+44 1293 762 380 from abroad.\\xa0Lines are open 24 hours.You'll need to tell us the reason for your call so we can direct you to our fraud team.\\xa0Suspicious emailsRemember, we will never send you an email or a link to a website that asks you to enter your Internet Banking details. If you get anything like this, do not reply and forward it to our fraud team: emailscams@lloydsbank.co.ukWas this helpful?\\xa0YesNoNo\",\n",
       "  0.6592565178871155),\n",
       " ('37',\n",
       "  'Report fraud on your business accountsCall us immediately if you think any of your Lloyds Business Bank accounts have been:accessed by a third party ortargeted for fraud.Please get in touch even if you haven’t suffered any loss from the attempted fraud.information-iconThis page is for business customersFind out how to report fraud if you’re a personal customer.Report Fraudheadset-iconBy PhoneCall us anytime on\\xa00800 500 3920.You’ll need to tell us the reason for your call so we can direct you to our fraud team.Was this helpful?YesNoNoReport fraud on your business accountsCall us immediately if you think any of your Lloyds Business Bank accounts have been:accessed by a third party ortargeted for fraud.Please get in touch even if you haven’t suffered any loss from the attempted fraud.information-iconThis page is for business customersFind out how to report fraud if you’re a personal customer.Report Fraudheadset-iconBy PhoneCall us anytime on\\xa00800 500 3920.You’ll need to tell us the reason for your call so we can direct you to our fraud team.Was this helpful?YesNoNo',\n",
       "  0.6503989100456238)]"
      ]
     },
     "execution_count": 4,
     "metadata": {},
     "output_type": "execute_result"
    }
   ],
   "source": [
    "vai = VertexAIVectorStore()\n",
    "vector = vai.search(input='what is credit card fraud')\n",
    "vector"
   ]
  },
  {
   "cell_type": "code",
   "execution_count": 42,
   "id": "c3c06457-c547-443b-b4dc-863c1e882ac9",
   "metadata": {},
   "outputs": [],
   "source": [
    "# couldnt get langchain to work so custom RAG anyone?\n",
    "\n",
    "class RAG:\n",
    "    def __init__(self, vector_store, palm_wrapper, initial_system_prompt=True):\n",
    "        self.vector_store = vector_store\n",
    "        self.palm_wrapper = palm_wrapper\n",
    "        # the comment from mathew regarding memory\n",
    "        self.conversation_history = []\n",
    "        \n",
    "        if initial_system_prompt:            \n",
    "            system_prompt = r\"You are a professional assistant with extensive experience helping numerous small and medium businesses. You work for a large retail bank called Lloyds. Please assist the user answering questions with detailed responses, providing reasoning whenever prescriptive advice is given.\"\n",
    "            self.conversation_history.append((system_prompt, \"\"))\n",
    "        \n",
    "    \n",
    "    def generate(self, query, is_user_query=True, k=3):\n",
    "        \n",
    "        contexts=[]\n",
    "        sources=[]\n",
    "        scores=[]\n",
    "        \n",
    "        if is_user_query:\n",
    "            # if user query, perform vector db search\n",
    "            # retrieve contexts based on the query\n",
    "            search_results = self.vector_store.search(query, k)\n",
    "            contexts = [result[1] for result in search_results]\n",
    "            sources = [result[0] for result in search_results]\n",
    "            scores = [result[2] for result in search_results]\n",
    "            \n",
    "        # combine both query and response from conversation history\n",
    "        history_context = '\\n'.join(['Q: ' + query + '\\nA: ' + response for query, response in self.conversation_history[-k:]])\n",
    "        \n",
    "        # combine history context and current contexts\n",
    "        combined_context = '\\n'.join([history_context] + contexts)\n",
    "        response = self.palm_wrapper.generate_response(combined_context[:20000], query)\n",
    "        \n",
    "        # update conversation history with current interaction\n",
    "        self.conversation_history.append((query, response))\n",
    "        \n",
    "        \n",
    "        return response, sources, scores"
   ]
  },
  {
   "cell_type": "code",
   "execution_count": 43,
   "id": "6f0915a2-848b-4b70-8b66-d7d53731c925",
   "metadata": {},
   "outputs": [
    {
     "name": "stdout",
     "output_type": "stream",
     "text": [
      "You can change your business address by completing a form and sending it to us. You can do this online if you're a full access user, or you can download a form and send it to us by post.\n",
      "sources used: ['24', '26', '45']\n",
      "scores: [0.7175062894821167, 0.6619007587432861, 0.6554778814315796]\n"
     ]
    }
   ],
   "source": [
    "rag = RAG(vai, pw)\n",
    "query = \"how do i change my address?\"\n",
    "response, sources, scores = rag.generate(query)\n",
    "print(response)\n",
    "print('sources used:', sources)\n",
    "print('scores:', scores)"
   ]
  },
  {
   "cell_type": "code",
   "execution_count": 44,
   "id": "56f06b42-1f61-43dd-b7a2-86bf4c6d7670",
   "metadata": {},
   "outputs": [
    {
     "name": "stdout",
     "output_type": "stream",
     "text": [
      "I'm sorry to hear that you've lost your card. It's important that you report this to us immediately so that we can cancel the card and prevent any fraudulent activity. You can do this by calling us on 0800 096 9779. If you're outside the UK, you can call +44 1702 278 270.\n",
      "sources used: ['56', '53', '62']\n",
      "scores: [0.7142672538757324, 0.7047110795974731, 0.7031532526016235]\n",
      "We need a letter of authority before we can process an audit request. It must be on your headed paper and include details of all the legal entities you are happy for the bank to disclose information to your auditors for.\n",
      "sources used: ['50', '51', '16']\n",
      "scores: [0.6711143851280212, 0.6682686805725098, 0.6521599292755127]\n",
      "I'm sorry, I misunderstood. What can I help you with today?\n",
      "sources used: ['50', '16', '67']\n",
      "scores: [0.6632628440856934, 0.6557632684707642, 0.6330248713493347]\n",
      "I'm sorry, I can't help you with that. I'm an AI-powered chatbot that can help you with your banking needs. I can't help you with general information like the weather.\n",
      "sources used: ['14', '50', '26']\n",
      "scores: [0.6232798099517822, 0.5904541611671448, 0.5719844102859497]\n",
      "To set up an online banking account, please contact your Relationship Manager.\n",
      "sources used: ['36', '40', '18']\n",
      "scores: [0.7497604489326477, 0.7378867864608765, 0.7196010947227478]\n"
     ]
    }
   ],
   "source": [
    "rag = RAG(vai, pw)\n",
    "query = \"i've lost my card\"\n",
    "response, sources, scores = rag.generate(query)\n",
    "print(response)\n",
    "print('sources used:', sources)\n",
    "print('scores:', scores)\n",
    "\n",
    "query = \"why?\"\n",
    "response, sources, scores = rag.generate(query)\n",
    "print(response)\n",
    "print('sources used:', sources)\n",
    "print('scores:', scores)\n",
    "\n",
    "query = \"i was not asking about an audit request\"\n",
    "response, sources, scores = rag.generate(query)\n",
    "print(response)\n",
    "print('sources used:', sources)\n",
    "print('scores:', scores)\n",
    "\n",
    "query = \"what is the weather in london\"\n",
    "response, sources, scores = rag.generate(query)\n",
    "print(response)\n",
    "print('sources used:', sources)\n",
    "print('scores:', scores)\n",
    "\n",
    "query = \"how can i set up an online banking account?\"\n",
    "response, sources, scores = rag.generate(query)\n",
    "print(response)\n",
    "print('sources used:', sources)\n",
    "print('scores:', scores)"
   ]
  },
  {
   "cell_type": "code",
   "execution_count": 29,
   "id": "6b7298fa-3852-4046-8a45-41e14ab1c7f5",
   "metadata": {},
   "outputs": [
    {
     "data": {
      "application/vnd.jupyter.widget-view+json": {
       "model_id": "53d6e38c2a574ae59711e90437d26cc8",
       "version_major": 2,
       "version_minor": 0
      },
      "text/plain": [
       "Output(layout=Layout(border_bottom='1px solid black', border_left='1px solid black', border_right='1px solid b…"
      ]
     },
     "metadata": {},
     "output_type": "display_data"
    },
    {
     "data": {
      "application/vnd.jupyter.widget-view+json": {
       "model_id": "fd7fd9297297463c8d003b8070503428",
       "version_major": 2,
       "version_minor": 0
      },
      "text/plain": [
       "HBox(children=(Text(value='', description='Lloyds', layout=Layout(width='80%'), placeholder='Message LBG help …"
      ]
     },
     "metadata": {},
     "output_type": "display_data"
    }
   ],
   "source": [
    "import ipywidgets as widgets\n",
    "from IPython.display import display, clear_output\n",
    "\n",
    "class ChatUI:\n",
    "    def __init__(self, rag_instance):\n",
    "        self.rag_instance = rag_instance\n",
    "        self.conversation = []\n",
    "        self._setup_ui()\n",
    "    \n",
    "    def _setup_ui(self):\n",
    "        self.input_box = widgets.Text(\n",
    "            placeholder='Message LBG help and support...',\n",
    "            description='Lloyds',\n",
    "            layout={'width': '80%'}\n",
    "        )\n",
    "        \n",
    "        self.send_button = widgets.Button(\n",
    "            description='Send',\n",
    "            button_style='info',\n",
    "            layout={'width': '12%'}\n",
    "        )\n",
    "        self.output_area = widgets.Output(layout={'border': '1px solid black', 'width': '100%'})\n",
    "        self.send_button.on_click(self._on_send_clicked)\n",
    "        \n",
    "        input_send_box = widgets.HBox([self.input_box, self.send_button])\n",
    "        \n",
    "        display(self.output_area, input_send_box)\n",
    "        \n",
    "    def _on_send_clicked(self, b):\n",
    "        query = self.input_box.value\n",
    "        self.conversation.append(f\"You: {query}\")\n",
    "        response = self.rag_instance.generate(query)\n",
    "        self.conversation.append(f'LBG AI: {response}')\n",
    "        \n",
    "        with self.output_area:\n",
    "            clear_output(wait=True)\n",
    "            print('\\n'.join(self.conversation))\n",
    "        \n",
    "        # clear input box\n",
    "        self.input_box.value = ''\n",
    "        \n",
    "rag = RAG(vai, pw)\n",
    "chat_ui = ChatUI(rag)            "
   ]
  },
  {
   "cell_type": "markdown",
   "id": "086b8cea-2616-46e3-a279-a2a90d34f1f7",
   "metadata": {},
   "source": [
    "The below didn't work for some reason, logging off for now"
   ]
  },
  {
   "cell_type": "code",
   "execution_count": 47,
   "id": "d9e3562d-281d-41a8-8254-524400506171",
   "metadata": {},
   "outputs": [
    {
     "data": {
      "text/html": [
       "\n",
       "    <script>\n",
       "    // Function to hide al lcells\n",
       "    function hide_other_cells() {\n",
       "        var cells = Jupyter.notebook.get_cells();\n",
       "        for (var i= 0; i < cells.length; i++) {\n",
       "            var cells = cells[i];\n",
       "            if (cell.cell_type === 'code') {\n",
       "                if (!cell.output_area.outputs.length || !cell.output_area.outputs[0].data['text/html'] {\n",
       "                    cell.element.hide();\n",
       "                }\n",
       "            }\n",
       "        }\n",
       "    }\n",
       "    \n",
       "    // Run the function after a short delay to ensure all cells are loaded in\n",
       "    setTimeout(hide_other_cells, 1000);\n",
       "</script>\n"
      ],
      "text/plain": [
       "<IPython.core.display.HTML object>"
      ]
     },
     "metadata": {},
     "output_type": "display_data"
    }
   ],
   "source": [
    "# Hide all cells\n",
    "from IPython.display import display, Javascript\n",
    "\n",
    "def hide_other_cells():\n",
    "    script = '''\n",
    "    require([\"base/js/namespace\"], function(Jupyter) {\n",
    "        Jupyter.notebook.get_cells().forEach(function(cell) {\n",
    "            if (cell.cell_type === 'code' && !cell.output_area.outputs.length) {\n",
    "                cell.element.hide(); //Hides all cells that don't have an output\n",
    "            }\n",
    "        });\n",
    "    });\n",
    "    '''\n",
    "    \n",
    "    display(HTML(javascript))\n",
    "\n",
    "hide_other_cells()"
   ]
  },
  {
   "cell_type": "code",
   "execution_count": null,
   "id": "c482d7de-97fb-42c0-b2ec-dfa6ced835be",
   "metadata": {},
   "outputs": [],
   "source": []
  }
 ],
 "metadata": {
  "environment": {
   "kernel": "python3",
   "name": "tf2-cpu.2-11.m112",
   "type": "gcloud",
   "uri": "gcr.io/deeplearning-platform-release/tf2-cpu.2-11:m112"
  },
  "kernelspec": {
   "display_name": "Python 3",
   "language": "python",
   "name": "python3"
  },
  "language_info": {
   "codemirror_mode": {
    "name": "ipython",
    "version": 3
   },
   "file_extension": ".py",
   "mimetype": "text/x-python",
   "name": "python",
   "nbconvert_exporter": "python",
   "pygments_lexer": "ipython3",
   "version": "3.7.12"
  }
 },
 "nbformat": 4,
 "nbformat_minor": 5
}
