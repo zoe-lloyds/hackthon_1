{
 "cells": [
  {
   "cell_type": "markdown",
   "id": "9dcb1bde-3ac1-42ba-ad90-bc93df01c0f8",
   "metadata": {},
   "source": [
    "# Embeddings\n",
    "\n",
    "## Semantic Search Using Embeddings from Google Gen AI Models\n",
    "\n",
    "Semantic search is a type of search that uses the meaning of words and phrases to find relevant results.\n",
    "\n",
    "In this tutorial, we will demonstrate how to do semantic search with embeddings generated from the news text and using [Google ScaNN: Efficient Vector Similarity Search](https://ai.googleblog.com/2020/07/announcing-scann-efficient-vector.html) to retrieve the most relevant news semantically.\n",
    "\n",
    "The embeddings are generated using the embedding model API provided by Google (based on Palm 2) and vector search is done using a local library. This pattern is most appropriate for experimentation.\n",
    "\n",
    "## Pre-requisites:\n",
    "- Vertex LLM SDK\n",
    "- ScaNN [github](https://github.com/google-research/google-research/tree/master/scann)"
   ]
  },
  {
   "cell_type": "markdown",
   "id": "fc3920ce-2421-4026-a142-db29cd968b83",
   "metadata": {},
   "source": [
    "## Install Vertex LLM SDK\n",
    "\n",
    "Install required libraries and initialises the Vertex AI SDK"
   ]
  },
  {
   "cell_type": "code",
   "execution_count": null,
   "id": "484703ed-180e-4dfa-a59a-6845b36c809b",
   "metadata": {
    "tags": []
   },
   "outputs": [],
   "source": [
    "# Install Required Libraries\n",
    "!pip3 install \"google-cloud-aiplatform>=1.25\" \"shapely<2.0.0\"\n",
    "!pip install scann"
   ]
  },
  {
   "cell_type": "code",
   "execution_count": null,
   "id": "cb177979-b284-456a-ba78-6a8c3e3870bd",
   "metadata": {},
   "outputs": [],
   "source": [
    "# Import Vertex AI SDK\n",
    "PROJECT_ID = !gcloud config get project\n",
    "PROJECT_ID = PROJECT_ID.n\n",
    "LOCATION = \"europe-west2\" \n",
    "\n",
    "import vertexai\n",
    "\n",
    "vertexai.init(project=PROJECT_ID, location=LOCATION)"
   ]
  },
  {
   "cell_type": "markdown",
   "id": "dec92d49-de0b-47c4-9071-aa74c2d8c062",
   "metadata": {},
   "source": [
    "## Import TextEmbeddingModel\n",
    "\n",
    "Available models as of Sep 2023\n",
    "| Models | Description\n",
    "| :- | :- |\n",
    "| textembedding-gecko@001 | stable |\n",
    "| textembedding-gecko@latest | public preview: an embeddings model with enhanced AI quality |\n",
    "| textembedding-gecko-multilingual@latest | public preview: an embeddings model designed to use a wide range of non-English languages. |\n",
    "\n",
    "\n",
    "Further documentation on available models can be found here: https://cloud.google.com/vertex-ai/docs/generative-ai/embeddings/get-text-embeddings#generative-ai-get-text-embedding-python"
   ]
  },
  {
   "cell_type": "code",
   "execution_count": 37,
   "id": "bcb9c36d-f0a3-47d2-9ed5-bc99fad4c23c",
   "metadata": {},
   "outputs": [],
   "source": [
    "from vertexai.preview.language_models import TextEmbeddingModel\n",
    "\n",
    "model = TextEmbeddingModel.from_pretrained(\"textembedding-gecko@001\")"
   ]
  },
  {
   "cell_type": "markdown",
   "id": "6b997769-ceaf-4837-afe6-fffae3e4d8ab",
   "metadata": {},
   "source": [
    "## Import Required Packages\n",
    "\n",
    "Outputs regarding Tensorflow can be ignored as this is due to this notebook being CPU only. A GPU is not required for this demonstration.\n"
   ]
  },
  {
   "cell_type": "code",
   "execution_count": 38,
   "id": "51e7ebba-ad16-43db-a36d-30cecd8d1316",
   "metadata": {},
   "outputs": [],
   "source": [
    "import json\n",
    "import time\n",
    "\n",
    "import numpy as np\n",
    "import pandas as pd\n",
    "import scann"
   ]
  },
  {
   "cell_type": "markdown",
   "id": "47573a7f-5af5-4163-af8f-4a7462ed14a1",
   "metadata": {},
   "source": [
    "## Create Embedding Dataset\n",
    "\n",
    "The dataset is solely to demonstrate the use of the Text Embedding API with a vector database. It is not intended to be used for any other purpose, such as evaluating models. The dataset is small and does not represent a comprehensive sample of all possible text.\n",
    "\n",
    "The following command copies the data json file from a Google Storage bucket. The data is stored locally within the notebook for use. "
   ]
  },
  {
   "cell_type": "code",
   "execution_count": 7,
   "id": "ec12607e-a969-44a9-a486-db32303dfa09",
   "metadata": {},
   "outputs": [
    {
     "name": "stdout",
     "output_type": "stream",
     "text": [
      "Copying gs://gen-ai-playpen-b57463-bucket/embeddings/data/google_embeddings_dataset.jsonl...\n",
      "/ [1 files][ 14.1 KiB/ 14.1 KiB]                                                \n",
      "Operation completed over 1 objects/14.1 KiB.                                     \n"
     ]
    }
   ],
   "source": [
    "!mkdir -p datasets\n",
    "!gsutil cp gs://gen-ai-{PROJECT_ID}-bucket/embeddings/data/google_embeddings_dataset.jsonl ./datasets"
   ]
  },
  {
   "cell_type": "markdown",
   "id": "b676dbc8-7865-41dc-b45f-c5c75cff1f4f",
   "metadata": {},
   "source": [
    "### Load data.json as a Python list"
   ]
  },
  {
   "cell_type": "code",
   "execution_count": 8,
   "id": "d229a49b-8cd3-4e77-a34e-abb269a2f8a8",
   "metadata": {},
   "outputs": [],
   "source": [
    "records = []\n",
    "with open(\"./datasets/google_embeddings_dataset.jsonl\") as f:\n",
    "    for line in f:\n",
    "        record = json.loads(line)\n",
    "        records.append(record)"
   ]
  },
  {
   "cell_type": "markdown",
   "id": "f1c2781e-3d95-44b4-9745-63366fcef6b6",
   "metadata": {},
   "source": [
    "### Peek at the data"
   ]
  },
  {
   "cell_type": "code",
   "execution_count": 39,
   "id": "abcd3dbc-cece-4b58-8aa7-c599024acf56",
   "metadata": {},
   "outputs": [
    {
     "data": {
      "text/html": [
       "<div>\n",
       "<style scoped>\n",
       "    .dataframe tbody tr th:only-of-type {\n",
       "        vertical-align: middle;\n",
       "    }\n",
       "\n",
       "    .dataframe tbody tr th {\n",
       "        vertical-align: top;\n",
       "    }\n",
       "\n",
       "    .dataframe thead th {\n",
       "        text-align: right;\n",
       "    }\n",
       "</style>\n",
       "<table border=\"1\" class=\"dataframe\">\n",
       "  <thead>\n",
       "    <tr style=\"text-align: right;\">\n",
       "      <th></th>\n",
       "      <th>file_name</th>\n",
       "      <th>text</th>\n",
       "    </tr>\n",
       "  </thead>\n",
       "  <tbody>\n",
       "    <tr>\n",
       "      <th>0</th>\n",
       "      <td>whats-new-in-online-for-business.txt</td>\n",
       "      <td>\\nNo\\n</td>\n",
       "    </tr>\n",
       "    <tr>\n",
       "      <th>1</th>\n",
       "      <td>activate-cbo.txt</td>\n",
       "      <td>Activate your Commercial Banking Online accoun...</td>\n",
       "    </tr>\n",
       "    <tr>\n",
       "      <th>2</th>\n",
       "      <td>getting-started-with-the-business-mobile-app.txt</td>\n",
       "      <td>Getting started with the Business Mobile Banki...</td>\n",
       "    </tr>\n",
       "    <tr>\n",
       "      <th>3</th>\n",
       "      <td>account-management.txt</td>\n",
       "      <td>Account ManagementAccess &amp; permissionsAdd or r...</td>\n",
       "    </tr>\n",
       "    <tr>\n",
       "      <th>4</th>\n",
       "      <td>confirmation-of-payee.txt</td>\n",
       "      <td>Make payments with confidenceConfirmation of P...</td>\n",
       "    </tr>\n",
       "  </tbody>\n",
       "</table>\n",
       "</div>"
      ],
      "text/plain": [
       "                                          file_name  \\\n",
       "0              whats-new-in-online-for-business.txt   \n",
       "1                                  activate-cbo.txt   \n",
       "2  getting-started-with-the-business-mobile-app.txt   \n",
       "3                            account-management.txt   \n",
       "4                         confirmation-of-payee.txt   \n",
       "\n",
       "                                                text  \n",
       "0                                             \\nNo\\n  \n",
       "1  Activate your Commercial Banking Online accoun...  \n",
       "2  Getting started with the Business Mobile Banki...  \n",
       "3  Account ManagementAccess & permissionsAdd or r...  \n",
       "4  Make payments with confidenceConfirmation of P...  "
      ]
     },
     "execution_count": 39,
     "metadata": {},
     "output_type": "execute_result"
    }
   ],
   "source": [
    "df = pd.read_csv('text_data.csv')\n",
    "df.head(5)"
   ]
  },
  {
   "cell_type": "markdown",
   "id": "dd147c2f-6653-48c2-ad64-df8255b2aba0",
   "metadata": {},
   "source": [
    "### Get embeddings from the Google Embedding Model\n",
    "\n",
    "The following code sends a request to the embedding model API to get the embedding vector for each entry in the dataset and stores it in a Python DataFrame."
   ]
  },
  {
   "cell_type": "code",
   "execution_count": 40,
   "id": "4f732506-1c2a-4117-a9b6-132e49ecc601",
   "metadata": {},
   "outputs": [],
   "source": [
    "def get_embedding(text):\n",
    "    get_embedding.counter += 1\n",
    "    #try:\n",
    "    if get_embedding.counter % 100 == 0:\n",
    "        time.sleep(3)\n",
    "    return model.get_embeddings([text])[0].values #Send request to embedding model\n",
    "    #except:\n",
    "     #   return []\n",
    "\n",
    "\n",
    "get_embedding.counter = 0\n",
    "\n",
    "# This may take several minutes to complete.\n",
    "df[\"embedding\"] = df[\"text\"].apply(lambda x: get_embedding(x))"
   ]
  },
  {
   "cell_type": "code",
   "execution_count": 41,
   "id": "f66e604e-8f70-4a29-8b96-b3bc77e0573a",
   "metadata": {},
   "outputs": [
    {
     "data": {
      "text/html": [
       "<div>\n",
       "<style scoped>\n",
       "    .dataframe tbody tr th:only-of-type {\n",
       "        vertical-align: middle;\n",
       "    }\n",
       "\n",
       "    .dataframe tbody tr th {\n",
       "        vertical-align: top;\n",
       "    }\n",
       "\n",
       "    .dataframe thead th {\n",
       "        text-align: right;\n",
       "    }\n",
       "</style>\n",
       "<table border=\"1\" class=\"dataframe\">\n",
       "  <thead>\n",
       "    <tr style=\"text-align: right;\">\n",
       "      <th></th>\n",
       "      <th>file_name</th>\n",
       "      <th>text</th>\n",
       "      <th>embedding</th>\n",
       "    </tr>\n",
       "  </thead>\n",
       "  <tbody>\n",
       "    <tr>\n",
       "      <th>0</th>\n",
       "      <td>whats-new-in-online-for-business.txt</td>\n",
       "      <td>\\nNo\\n</td>\n",
       "      <td>[-0.0404525101184845, 0.0033019392285495996, 0...</td>\n",
       "    </tr>\n",
       "    <tr>\n",
       "      <th>1</th>\n",
       "      <td>activate-cbo.txt</td>\n",
       "      <td>Activate your Commercial Banking Online accoun...</td>\n",
       "      <td>[0.012968906201422215, -0.008811010047793388, ...</td>\n",
       "    </tr>\n",
       "    <tr>\n",
       "      <th>2</th>\n",
       "      <td>getting-started-with-the-business-mobile-app.txt</td>\n",
       "      <td>Getting started with the Business Mobile Banki...</td>\n",
       "      <td>[0.010437247343361378, -0.01822996884584427, -...</td>\n",
       "    </tr>\n",
       "    <tr>\n",
       "      <th>3</th>\n",
       "      <td>account-management.txt</td>\n",
       "      <td>Account ManagementAccess &amp; permissionsAdd or r...</td>\n",
       "      <td>[-0.014143393374979496, -0.008116590790450573,...</td>\n",
       "    </tr>\n",
       "    <tr>\n",
       "      <th>4</th>\n",
       "      <td>confirmation-of-payee.txt</td>\n",
       "      <td>Make payments with confidenceConfirmation of P...</td>\n",
       "      <td>[0.009221789427101612, -0.02166173793375492, 0...</td>\n",
       "    </tr>\n",
       "  </tbody>\n",
       "</table>\n",
       "</div>"
      ],
      "text/plain": [
       "                                          file_name  \\\n",
       "0              whats-new-in-online-for-business.txt   \n",
       "1                                  activate-cbo.txt   \n",
       "2  getting-started-with-the-business-mobile-app.txt   \n",
       "3                            account-management.txt   \n",
       "4                         confirmation-of-payee.txt   \n",
       "\n",
       "                                                text  \\\n",
       "0                                             \\nNo\\n   \n",
       "1  Activate your Commercial Banking Online accoun...   \n",
       "2  Getting started with the Business Mobile Banki...   \n",
       "3  Account ManagementAccess & permissionsAdd or r...   \n",
       "4  Make payments with confidenceConfirmation of P...   \n",
       "\n",
       "                                           embedding  \n",
       "0  [-0.0404525101184845, 0.0033019392285495996, 0...  \n",
       "1  [0.012968906201422215, -0.008811010047793388, ...  \n",
       "2  [0.010437247343361378, -0.01822996884584427, -...  \n",
       "3  [-0.014143393374979496, -0.008116590790450573,...  \n",
       "4  [0.009221789427101612, -0.02166173793375492, 0...  "
      ]
     },
     "execution_count": 41,
     "metadata": {},
     "output_type": "execute_result"
    }
   ],
   "source": [
    "df.head()"
   ]
  },
  {
   "cell_type": "markdown",
   "id": "5a366c3b-5450-4bdc-bcd2-7e815778fc15",
   "metadata": {},
   "source": [
    "## Create an Index\n",
    "\n",
    "Further documentation on SCANN: https://github.com/google-research/google-research/tree/master/scann"
   ]
  },
  {
   "cell_type": "code",
   "execution_count": 42,
   "id": "6be852a2-84fa-48b2-9f7f-17eb62710826",
   "metadata": {},
   "outputs": [
    {
     "name": "stderr",
     "output_type": "stream",
     "text": [
      "2023-11-30 17:19:19.194929: I scann/partitioning/partitioner_factory_base.cc:59] Size of sampled dataset for training partition: 48\n",
      "2023-11-30 17:19:19.200076: I ./scann/partitioning/kmeans_tree_partitioner_utils.h:88] PartitionerFactory ran in 5.035017ms.\n"
     ]
    }
   ],
   "source": [
    "record_count = len(records)\n",
    "dataset = np.empty((record_count, 768))\n",
    "for i in range(record_count):\n",
    "    dataset[i] = df.embedding[i]\n",
    "\n",
    "normalized_dataset = dataset / np.linalg.norm(dataset, axis=1)[:, np.newaxis]\n",
    "# configure ScaNN as a tree - asymmetric hash hybrid with reordering\n",
    "# anisotropic quantization as described in the paper; see README\n",
    "\n",
    "# use scann.scann_ops.build() to instead create a TensorFlow-compatible searcher\n",
    "searcher = (\n",
    "    scann.scann_ops_pybind.builder(normalized_dataset, 10, \"dot_product\")\n",
    "    .tree(\n",
    "        num_leaves=record_count,\n",
    "        num_leaves_to_search=record_count,\n",
    "        training_sample_size=record_count,\n",
    "    )\n",
    "    .score_ah(2, anisotropic_quantization_threshold=0.2)\n",
    "    .reorder(100)\n",
    "    .build()\n",
    ")"
   ]
  },
  {
   "cell_type": "markdown",
   "id": "8e2f94c4-951d-470f-837f-5ce289cf9966",
   "metadata": {},
   "source": [
    "## Query Function"
   ]
  },
  {
   "cell_type": "code",
   "execution_count": 45,
   "id": "15814989-acce-49a0-ace4-22b0c9dd0971",
   "metadata": {},
   "outputs": [],
   "source": [
    "def search(query):\n",
    "    start = time.time()\n",
    "    query = model.get_embeddings([query])[0].values\n",
    "    neighbors, distances = searcher.search(query, final_num_neighbors=3)\n",
    "    end = time.time()\n",
    "\n",
    "    for id, dist in zip(neighbors, distances):\n",
    "        print(f\"[docid:{id}] [{dist}] -- {df.text[int(id)][:125]}...\")\n",
    "    print(\"Latency (ms):\", 1000 * (end - start))"
   ]
  },
  {
   "cell_type": "markdown",
   "id": "18411d4f-92d6-4193-aedf-00d9ae2c3959",
   "metadata": {},
   "source": [
    "## Query Index"
   ]
  },
  {
   "cell_type": "code",
   "execution_count": 48,
   "id": "634601a6-3caf-451e-ba68-fe1b0fe0fc14",
   "metadata": {},
   "outputs": [
    {
     "name": "stdout",
     "output_type": "stream",
     "text": [
      "[docid:17] [0.7976396679878235] -- Find out more about online bankingOnline for BusinessOnline for Business is our Internet Banking service that lets you take c...\n",
      "[docid:19] [0.7541975378990173] -- How to log in and out of Commercial Banking Online.You can only log in to Commercial Banking Online if your account has been ...\n",
      "[docid:20] [0.7353847026824951] -- Register for Commercial Banking OnlineCommercial Banking Online:helps you manage your business online.gives you access to bot...\n",
      "Latency (ms): 488.70158195495605\n"
     ]
    }
   ],
   "source": [
    "search(\"tell me about online banking\")"
   ]
  },
  {
   "cell_type": "code",
   "execution_count": 47,
   "id": "1c33f7f2-7206-474a-a98b-261afe086c1c",
   "metadata": {},
   "outputs": [
    {
     "name": "stdout",
     "output_type": "stream",
     "text": [
      "[docid:25] [0.6011409759521484] -- Log on to Online for Business – Memorable InformationLog on securely using three characters from your memorable information, ...\n",
      "[docid:18] [0.5863494873046875] -- Claim a Direct Debit refundYou might be able to claim a refund for a Direct Debit you haven’t authorised.You might be able to...\n",
      "[docid:16] [0.5744001865386963] -- Make a complaintWe’re committed to providing products and services of the very highest quality. If we haven't lived up to you...\n",
      "Latency (ms): 560.3361129760742\n"
     ]
    }
   ],
   "source": [
    "search(\"tell me about an important moment or event in your life\")"
   ]
  },
  {
   "cell_type": "code",
   "execution_count": null,
   "id": "df2495ca-1183-4638-bbe6-1923030fba41",
   "metadata": {},
   "outputs": [],
   "source": []
  }
 ],
 "metadata": {
  "environment": {
   "kernel": "python3",
   "name": "tf2-cpu.2-11.m112",
   "type": "gcloud",
   "uri": "gcr.io/deeplearning-platform-release/tf2-cpu.2-11:m112"
  },
  "kernelspec": {
   "display_name": "Python 3",
   "language": "python",
   "name": "python3"
  },
  "language_info": {
   "codemirror_mode": {
    "name": "ipython",
    "version": 3
   },
   "file_extension": ".py",
   "mimetype": "text/x-python",
   "name": "python",
   "nbconvert_exporter": "python",
   "pygments_lexer": "ipython3",
   "version": "3.7.12"
  }
 },
 "nbformat": 4,
 "nbformat_minor": 5
}
